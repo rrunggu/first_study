{
 "cells": [
  {
   "cell_type": "markdown",
   "metadata": {},
   "source": [
    "### 라이브러리 불러오기"
   ]
  },
  {
   "cell_type": "code",
   "execution_count": 1,
   "metadata": {},
   "outputs": [],
   "source": [
    "# library 불러오기\n",
    "import pandas as pd\n",
    "from collections import defaultdict\n",
    "import seaborn as sns\n",
    "import matplotlib.pyplot as plt\n",
    "import numpy as np\n",
    "# 동시 출력\n",
    "from IPython.core.interactiveshell import InteractiveShell\n",
    "InteractiveShell.ast_node_interactivity=\"all\""
   ]
  },
  {
   "cell_type": "markdown",
   "metadata": {},
   "source": [
    "#### 각 채널로 움직이는 전이 확률(Transition Probability) 구하기\n",
    "\n",
    "- 유저가 여러 경로를 통해 제품을 접하고 구매하게 되는 기여도를 분배"
   ]
  },
  {
   "cell_type": "code",
   "execution_count": 2,
   "metadata": {},
   "outputs": [
    {
     "data": {
      "text/html": [
       "<div>\n",
       "<style scoped>\n",
       "    .dataframe tbody tr th:only-of-type {\n",
       "        vertical-align: middle;\n",
       "    }\n",
       "\n",
       "    .dataframe tbody tr th {\n",
       "        vertical-align: top;\n",
       "    }\n",
       "\n",
       "    .dataframe thead th {\n",
       "        text-align: right;\n",
       "    }\n",
       "</style>\n",
       "<table border=\"1\" class=\"dataframe\">\n",
       "  <thead>\n",
       "    <tr style=\"text-align: right;\">\n",
       "      <th></th>\n",
       "      <th>cookie</th>\n",
       "      <th>time</th>\n",
       "      <th>interaction</th>\n",
       "      <th>conversion</th>\n",
       "      <th>conversion_value</th>\n",
       "      <th>channel</th>\n",
       "    </tr>\n",
       "  </thead>\n",
       "  <tbody>\n",
       "    <tr>\n",
       "      <th>0</th>\n",
       "      <td>00000FkCnDfDDf0iC97iC703B</td>\n",
       "      <td>2018-07-03T13:02:11Z</td>\n",
       "      <td>impression</td>\n",
       "      <td>0</td>\n",
       "      <td>0.0</td>\n",
       "      <td>Instagram</td>\n",
       "    </tr>\n",
       "    <tr>\n",
       "      <th>1</th>\n",
       "      <td>00000FkCnDfDDf0iC97iC703B</td>\n",
       "      <td>2018-07-17T19:15:07Z</td>\n",
       "      <td>impression</td>\n",
       "      <td>0</td>\n",
       "      <td>0.0</td>\n",
       "      <td>Online Display</td>\n",
       "    </tr>\n",
       "    <tr>\n",
       "      <th>2</th>\n",
       "      <td>00000FkCnDfDDf0iC97iC703B</td>\n",
       "      <td>2018-07-24T15:51:46Z</td>\n",
       "      <td>impression</td>\n",
       "      <td>0</td>\n",
       "      <td>0.0</td>\n",
       "      <td>Online Display</td>\n",
       "    </tr>\n",
       "    <tr>\n",
       "      <th>3</th>\n",
       "      <td>00000FkCnDfDDf0iC97iC703B</td>\n",
       "      <td>2018-07-29T07:44:51Z</td>\n",
       "      <td>impression</td>\n",
       "      <td>0</td>\n",
       "      <td>0.0</td>\n",
       "      <td>Online Display</td>\n",
       "    </tr>\n",
       "    <tr>\n",
       "      <th>4</th>\n",
       "      <td>0000nACkD9nFkBBDECD3ki00E</td>\n",
       "      <td>2018-07-03T09:44:57Z</td>\n",
       "      <td>impression</td>\n",
       "      <td>0</td>\n",
       "      <td>0.0</td>\n",
       "      <td>Paid Search</td>\n",
       "    </tr>\n",
       "  </tbody>\n",
       "</table>\n",
       "</div>"
      ],
      "text/plain": [
       "                      cookie                  time interaction  conversion  \\\n",
       "0  00000FkCnDfDDf0iC97iC703B  2018-07-03T13:02:11Z  impression           0   \n",
       "1  00000FkCnDfDDf0iC97iC703B  2018-07-17T19:15:07Z  impression           0   \n",
       "2  00000FkCnDfDDf0iC97iC703B  2018-07-24T15:51:46Z  impression           0   \n",
       "3  00000FkCnDfDDf0iC97iC703B  2018-07-29T07:44:51Z  impression           0   \n",
       "4  0000nACkD9nFkBBDECD3ki00E  2018-07-03T09:44:57Z  impression           0   \n",
       "\n",
       "   conversion_value         channel  \n",
       "0               0.0       Instagram  \n",
       "1               0.0  Online Display  \n",
       "2               0.0  Online Display  \n",
       "3               0.0  Online Display  \n",
       "4               0.0     Paid Search  "
      ]
     },
     "execution_count": 2,
     "metadata": {},
     "output_type": "execute_result"
    }
   ],
   "source": [
    "# 데이터 가져오기\n",
    "df = pd.read_csv('./data/attribution_data.csv')\n",
    "\n",
    "# 데이터 보기\n",
    "df.head()"
   ]
  },
  {
   "cell_type": "code",
   "execution_count": 13,
   "metadata": {},
   "outputs": [],
   "source": [
    "# 유저 별로 접한 채널을 모두 list 로 묶는다.\n",
    "df_paths = (\n",
    "    df.groupby('cookie')['channel']\n",
    "      .aggregate(\n",
    "          lambda x: x.unique().tolist()\n",
    "      )\n",
    "      .reset_index()  \n",
    ")"
   ]
  },
  {
   "cell_type": "code",
   "execution_count": 14,
   "metadata": {},
   "outputs": [
    {
     "data": {
      "text/html": [
       "<div>\n",
       "<style scoped>\n",
       "    .dataframe tbody tr th:only-of-type {\n",
       "        vertical-align: middle;\n",
       "    }\n",
       "\n",
       "    .dataframe tbody tr th {\n",
       "        vertical-align: top;\n",
       "    }\n",
       "\n",
       "    .dataframe thead th {\n",
       "        text-align: right;\n",
       "    }\n",
       "</style>\n",
       "<table border=\"1\" class=\"dataframe\">\n",
       "  <thead>\n",
       "    <tr style=\"text-align: right;\">\n",
       "      <th></th>\n",
       "      <th>cookie</th>\n",
       "      <th>channel</th>\n",
       "    </tr>\n",
       "  </thead>\n",
       "  <tbody>\n",
       "    <tr>\n",
       "      <th>0</th>\n",
       "      <td>00000FkCnDfDDf0iC97iC703B</td>\n",
       "      <td>[Instagram, Online Display]</td>\n",
       "    </tr>\n",
       "    <tr>\n",
       "      <th>1</th>\n",
       "      <td>0000nACkD9nFkBBDECD3ki00E</td>\n",
       "      <td>[Paid Search]</td>\n",
       "    </tr>\n",
       "    <tr>\n",
       "      <th>2</th>\n",
       "      <td>0003EfE37E93D0BC03iBhBBhF</td>\n",
       "      <td>[Paid Search]</td>\n",
       "    </tr>\n",
       "    <tr>\n",
       "      <th>3</th>\n",
       "      <td>00073CFE3FoFCn70fBhB3kfon</td>\n",
       "      <td>[Instagram]</td>\n",
       "    </tr>\n",
       "    <tr>\n",
       "      <th>4</th>\n",
       "      <td>00079hhBkDF3k3kDkiFi9EFAD</td>\n",
       "      <td>[Paid Search]</td>\n",
       "    </tr>\n",
       "  </tbody>\n",
       "</table>\n",
       "</div>"
      ],
      "text/plain": [
       "                      cookie                      channel\n",
       "0  00000FkCnDfDDf0iC97iC703B  [Instagram, Online Display]\n",
       "1  0000nACkD9nFkBBDECD3ki00E                [Paid Search]\n",
       "2  0003EfE37E93D0BC03iBhBBhF                [Paid Search]\n",
       "3  00073CFE3FoFCn70fBhB3kfon                  [Instagram]\n",
       "4  00079hhBkDF3k3kDkiFi9EFAD                [Paid Search]"
      ]
     },
     "execution_count": 14,
     "metadata": {},
     "output_type": "execute_result"
    }
   ],
   "source": [
    "df_paths.head()"
   ]
  },
  {
   "cell_type": "code",
   "execution_count": 15,
   "metadata": {},
   "outputs": [
    {
     "data": {
      "text/html": [
       "<div>\n",
       "<style scoped>\n",
       "    .dataframe tbody tr th:only-of-type {\n",
       "        vertical-align: middle;\n",
       "    }\n",
       "\n",
       "    .dataframe tbody tr th {\n",
       "        vertical-align: top;\n",
       "    }\n",
       "\n",
       "    .dataframe thead th {\n",
       "        text-align: right;\n",
       "    }\n",
       "</style>\n",
       "<table border=\"1\" class=\"dataframe\">\n",
       "  <thead>\n",
       "    <tr style=\"text-align: right;\">\n",
       "      <th></th>\n",
       "      <th>cookie</th>\n",
       "      <th>conversion</th>\n",
       "    </tr>\n",
       "  </thead>\n",
       "  <tbody>\n",
       "    <tr>\n",
       "      <th>3</th>\n",
       "      <td>00000FkCnDfDDf0iC97iC703B</td>\n",
       "      <td>0</td>\n",
       "    </tr>\n",
       "    <tr>\n",
       "      <th>9</th>\n",
       "      <td>0000nACkD9nFkBBDECD3ki00E</td>\n",
       "      <td>0</td>\n",
       "    </tr>\n",
       "    <tr>\n",
       "      <th>14</th>\n",
       "      <td>0003EfE37E93D0BC03iBhBBhF</td>\n",
       "      <td>0</td>\n",
       "    </tr>\n",
       "    <tr>\n",
       "      <th>15</th>\n",
       "      <td>00073CFE3FoFCn70fBhB3kfon</td>\n",
       "      <td>0</td>\n",
       "    </tr>\n",
       "    <tr>\n",
       "      <th>16</th>\n",
       "      <td>00079hhBkDF3k3kDkiFi9EFAD</td>\n",
       "      <td>0</td>\n",
       "    </tr>\n",
       "    <tr>\n",
       "      <th>20</th>\n",
       "      <td>0007iiAiFh3ifoo9Ehn3ABB0F</td>\n",
       "      <td>0</td>\n",
       "    </tr>\n",
       "    <tr>\n",
       "      <th>21</th>\n",
       "      <td>0007o0nfoh9o79DDfD7DAiEnE</td>\n",
       "      <td>0</td>\n",
       "    </tr>\n",
       "    <tr>\n",
       "      <th>22</th>\n",
       "      <td>0007oEBhnoF97AoEE3BCkFnhB</td>\n",
       "      <td>1</td>\n",
       "    </tr>\n",
       "    <tr>\n",
       "      <th>23</th>\n",
       "      <td>00090n9EBBEkA000C7Cik999D</td>\n",
       "      <td>1</td>\n",
       "    </tr>\n",
       "    <tr>\n",
       "      <th>28</th>\n",
       "      <td>000A9AfDohfiBAFB0FDf3kDEE</td>\n",
       "      <td>0</td>\n",
       "    </tr>\n",
       "  </tbody>\n",
       "</table>\n",
       "</div>"
      ],
      "text/plain": [
       "                       cookie  conversion\n",
       "3   00000FkCnDfDDf0iC97iC703B           0\n",
       "9   0000nACkD9nFkBBDECD3ki00E           0\n",
       "14  0003EfE37E93D0BC03iBhBBhF           0\n",
       "15  00073CFE3FoFCn70fBhB3kfon           0\n",
       "16  00079hhBkDF3k3kDkiFi9EFAD           0\n",
       "20  0007iiAiFh3ifoo9Ehn3ABB0F           0\n",
       "21  0007o0nfoh9o79DDfD7DAiEnE           0\n",
       "22  0007oEBhnoF97AoEE3BCkFnhB           1\n",
       "23  00090n9EBBEkA000C7Cik999D           1\n",
       "28  000A9AfDohfiBAFB0FDf3kDEE           0"
      ]
     },
     "execution_count": 15,
     "metadata": {},
     "output_type": "execute_result"
    }
   ],
   "source": [
    "# 유저별 전환여부를 확인하고\n",
    "# 마지막 row만 남기고 중복값을 제거한다\n",
    "df_last_interaction = df.drop_duplicates('cookie', keep='last')[['cookie', 'conversion']]\n",
    "df_last_interaction.head(10)"
   ]
  },
  {
   "cell_type": "code",
   "execution_count": 16,
   "metadata": {},
   "outputs": [
    {
     "data": {
      "text/html": [
       "<div>\n",
       "<style scoped>\n",
       "    .dataframe tbody tr th:only-of-type {\n",
       "        vertical-align: middle;\n",
       "    }\n",
       "\n",
       "    .dataframe tbody tr th {\n",
       "        vertical-align: top;\n",
       "    }\n",
       "\n",
       "    .dataframe thead th {\n",
       "        text-align: right;\n",
       "    }\n",
       "</style>\n",
       "<table border=\"1\" class=\"dataframe\">\n",
       "  <thead>\n",
       "    <tr style=\"text-align: right;\">\n",
       "      <th></th>\n",
       "      <th>cookie</th>\n",
       "      <th>channel</th>\n",
       "      <th>conversion</th>\n",
       "    </tr>\n",
       "  </thead>\n",
       "  <tbody>\n",
       "    <tr>\n",
       "      <th>0</th>\n",
       "      <td>00000FkCnDfDDf0iC97iC703B</td>\n",
       "      <td>[Instagram, Online Display]</td>\n",
       "      <td>0</td>\n",
       "    </tr>\n",
       "    <tr>\n",
       "      <th>1</th>\n",
       "      <td>0000nACkD9nFkBBDECD3ki00E</td>\n",
       "      <td>[Paid Search]</td>\n",
       "      <td>0</td>\n",
       "    </tr>\n",
       "    <tr>\n",
       "      <th>2</th>\n",
       "      <td>0003EfE37E93D0BC03iBhBBhF</td>\n",
       "      <td>[Paid Search]</td>\n",
       "      <td>0</td>\n",
       "    </tr>\n",
       "    <tr>\n",
       "      <th>3</th>\n",
       "      <td>00073CFE3FoFCn70fBhB3kfon</td>\n",
       "      <td>[Instagram]</td>\n",
       "      <td>0</td>\n",
       "    </tr>\n",
       "    <tr>\n",
       "      <th>4</th>\n",
       "      <td>00079hhBkDF3k3kDkiFi9EFAD</td>\n",
       "      <td>[Paid Search]</td>\n",
       "      <td>0</td>\n",
       "    </tr>\n",
       "  </tbody>\n",
       "</table>\n",
       "</div>"
      ],
      "text/plain": [
       "                      cookie                      channel  conversion\n",
       "0  00000FkCnDfDDf0iC97iC703B  [Instagram, Online Display]           0\n",
       "1  0000nACkD9nFkBBDECD3ki00E                [Paid Search]           0\n",
       "2  0003EfE37E93D0BC03iBhBBhF                [Paid Search]           0\n",
       "3  00073CFE3FoFCn70fBhB3kfon                  [Instagram]           0\n",
       "4  00079hhBkDF3k3kDkiFi9EFAD                [Paid Search]           0"
      ]
     },
     "execution_count": 16,
     "metadata": {},
     "output_type": "execute_result"
    }
   ],
   "source": [
    "# 기존에 만들어둔 path 데이터에 conversion 전환 여부를 합친다.\n",
    "df_paths = pd.merge(df_paths, df_last_interaction, how='left', on='cookie')\n",
    "\n",
    "# path 데이터 확인\n",
    "df_paths.head()"
   ]
  },
  {
   "cell_type": "markdown",
   "metadata": {},
   "source": [
    "#### 마코브 체인 state 만들기\n",
    "\n",
    "- 마코브 체인의 state 종류\n",
    "    - Start: 첫 시작\n",
    "    - Instagram: 인스타그램 광고\n",
    "    - Paid Search: 유료 검색 광고\n",
    "    - Facebook: 페이스북 광고\n",
    "    - Online Video: 비디오형 광고\n",
    "    - Online Display: 배너 노출 광고\n",
    "    - Conversion: 전환 성공 (구매 완료)\n",
    "    - Null: 전환 실패 (구매 없이 나감)"
   ]
  },
  {
   "cell_type": "code",
   "execution_count": 17,
   "metadata": {},
   "outputs": [],
   "source": [
    "# 시작 State 와 최종 state를 추가한다\n",
    "# 전환이 안되었다면 Null, 전환되었다면 Conversion State 를 캠페인 Path 뒤에 추가해준다. \n",
    "df_paths['paths'] = (\n",
    "    df_paths\n",
    "      .apply( \n",
    "          lambda x: ['Start'] + x.channel + ['Null'] \n",
    "            if x.conversion == 0 \n",
    "            else ['Start'] + x.channel + ['Conversion'], \n",
    "          axis=1\n",
    "      )\n",
    ")"
   ]
  },
  {
   "cell_type": "code",
   "execution_count": 18,
   "metadata": {},
   "outputs": [
    {
     "data": {
      "text/html": [
       "<div>\n",
       "<style scoped>\n",
       "    .dataframe tbody tr th:only-of-type {\n",
       "        vertical-align: middle;\n",
       "    }\n",
       "\n",
       "    .dataframe tbody tr th {\n",
       "        vertical-align: top;\n",
       "    }\n",
       "\n",
       "    .dataframe thead th {\n",
       "        text-align: right;\n",
       "    }\n",
       "</style>\n",
       "<table border=\"1\" class=\"dataframe\">\n",
       "  <thead>\n",
       "    <tr style=\"text-align: right;\">\n",
       "      <th></th>\n",
       "      <th>cookie</th>\n",
       "      <th>channel</th>\n",
       "      <th>conversion</th>\n",
       "      <th>paths</th>\n",
       "    </tr>\n",
       "  </thead>\n",
       "  <tbody>\n",
       "    <tr>\n",
       "      <th>0</th>\n",
       "      <td>00000FkCnDfDDf0iC97iC703B</td>\n",
       "      <td>[Instagram, Online Display]</td>\n",
       "      <td>0</td>\n",
       "      <td>[Start, Instagram, Online Display, Null]</td>\n",
       "    </tr>\n",
       "    <tr>\n",
       "      <th>1</th>\n",
       "      <td>0000nACkD9nFkBBDECD3ki00E</td>\n",
       "      <td>[Paid Search]</td>\n",
       "      <td>0</td>\n",
       "      <td>[Start, Paid Search, Null]</td>\n",
       "    </tr>\n",
       "    <tr>\n",
       "      <th>2</th>\n",
       "      <td>0003EfE37E93D0BC03iBhBBhF</td>\n",
       "      <td>[Paid Search]</td>\n",
       "      <td>0</td>\n",
       "      <td>[Start, Paid Search, Null]</td>\n",
       "    </tr>\n",
       "    <tr>\n",
       "      <th>3</th>\n",
       "      <td>00073CFE3FoFCn70fBhB3kfon</td>\n",
       "      <td>[Instagram]</td>\n",
       "      <td>0</td>\n",
       "      <td>[Start, Instagram, Null]</td>\n",
       "    </tr>\n",
       "    <tr>\n",
       "      <th>4</th>\n",
       "      <td>00079hhBkDF3k3kDkiFi9EFAD</td>\n",
       "      <td>[Paid Search]</td>\n",
       "      <td>0</td>\n",
       "      <td>[Start, Paid Search, Null]</td>\n",
       "    </tr>\n",
       "  </tbody>\n",
       "</table>\n",
       "</div>"
      ],
      "text/plain": [
       "                      cookie                      channel  conversion  \\\n",
       "0  00000FkCnDfDDf0iC97iC703B  [Instagram, Online Display]           0   \n",
       "1  0000nACkD9nFkBBDECD3ki00E                [Paid Search]           0   \n",
       "2  0003EfE37E93D0BC03iBhBBhF                [Paid Search]           0   \n",
       "3  00073CFE3FoFCn70fBhB3kfon                  [Instagram]           0   \n",
       "4  00079hhBkDF3k3kDkiFi9EFAD                [Paid Search]           0   \n",
       "\n",
       "                                      paths  \n",
       "0  [Start, Instagram, Online Display, Null]  \n",
       "1                [Start, Paid Search, Null]  \n",
       "2                [Start, Paid Search, Null]  \n",
       "3                  [Start, Instagram, Null]  \n",
       "4                [Start, Paid Search, Null]  "
      ]
     },
     "execution_count": 18,
     "metadata": {},
     "output_type": "execute_result"
    }
   ],
   "source": [
    "df_paths.head()"
   ]
  },
  {
   "cell_type": "code",
   "execution_count": 20,
   "metadata": {},
   "outputs": [
    {
     "name": "stdout",
     "output_type": "stream",
     "text": [
      "총 쿠키수: 240108\n",
      "전환된 쿠키수: 17639\n"
     ]
    }
   ],
   "source": [
    "# 총 쿠키수와 그 중 전환된 쿠키수 계산\n",
    "cookie_count = len(df_paths)\n",
    "conversion_count = len(df_paths.loc[df_paths.conversion == 1, :])\n",
    "print('총 쿠키수:',cookie_count)\n",
    "print('전환된 쿠키수:',conversion_count)"
   ]
  },
  {
   "cell_type": "code",
   "execution_count": 21,
   "metadata": {},
   "outputs": [
    {
     "name": "stdout",
     "output_type": "stream",
     "text": [
      "0.07346277508454528\n"
     ]
    }
   ],
   "source": [
    "# 전체 데이터에서 전환된 쿠키수를 확인해보니\n",
    "# 약 7% 정도로 알 수 있다\n",
    "base_conversion_rate = conversion_count / cookie_count\n",
    "print(base_conversion_rate)"
   ]
  },
  {
   "cell_type": "code",
   "execution_count": 22,
   "metadata": {},
   "outputs": [],
   "source": [
    "# transition 확률을 구하기 위한 데이터\n",
    "list_of_paths = df_paths['paths']"
   ]
  },
  {
   "cell_type": "code",
   "execution_count": 25,
   "metadata": {},
   "outputs": [
    {
     "data": {
      "text/plain": [
       "{'Conversion',\n",
       " 'Facebook',\n",
       " 'Instagram',\n",
       " 'Null',\n",
       " 'Online Display',\n",
       " 'Online Video',\n",
       " 'Paid Search',\n",
       " 'Start'}"
      ]
     },
     "execution_count": 25,
     "metadata": {},
     "output_type": "execute_result"
    }
   ],
   "source": [
    "# unique 한 상태(사건)\n",
    "list_of_unique_channels = set(x for element in list_of_paths for x in element)\n",
    "list_of_unique_channels"
   ]
  },
  {
   "cell_type": "markdown",
   "metadata": {},
   "source": [
    "#### 마코브 체인은 현재와 그 다음 상태사이의 전이확률만 필요하다\n",
    "\n",
    "- 따라서 과거의 상태는 필요하지 않다"
   ]
  },
  {
   "cell_type": "code",
   "execution_count": 35,
   "metadata": {},
   "outputs": [
    {
     "data": {
      "text/plain": [
       "{'Conversion>Conversion': 0,\n",
       " 'Conversion>Online Video': 0,\n",
       " 'Conversion>Start': 0,\n",
       " 'Conversion>Null': 0,\n",
       " 'Conversion>Facebook': 0,\n",
       " 'Conversion>Online Display': 0,\n",
       " 'Conversion>Paid Search': 0,\n",
       " 'Conversion>Instagram': 0,\n",
       " 'Online Video>Conversion': 0,\n",
       " 'Online Video>Online Video': 0,\n",
       " 'Online Video>Start': 0,\n",
       " 'Online Video>Null': 0,\n",
       " 'Online Video>Facebook': 0,\n",
       " 'Online Video>Online Display': 0,\n",
       " 'Online Video>Paid Search': 0,\n",
       " 'Online Video>Instagram': 0,\n",
       " 'Start>Conversion': 0,\n",
       " 'Start>Online Video': 0,\n",
       " 'Start>Start': 0,\n",
       " 'Start>Null': 0,\n",
       " 'Start>Facebook': 0,\n",
       " 'Start>Online Display': 0,\n",
       " 'Start>Paid Search': 0,\n",
       " 'Start>Instagram': 0,\n",
       " 'Null>Conversion': 0,\n",
       " 'Null>Online Video': 0,\n",
       " 'Null>Start': 0,\n",
       " 'Null>Null': 0,\n",
       " 'Null>Facebook': 0,\n",
       " 'Null>Online Display': 0,\n",
       " 'Null>Paid Search': 0,\n",
       " 'Null>Instagram': 0,\n",
       " 'Facebook>Conversion': 0,\n",
       " 'Facebook>Online Video': 0,\n",
       " 'Facebook>Start': 0,\n",
       " 'Facebook>Null': 0,\n",
       " 'Facebook>Facebook': 0,\n",
       " 'Facebook>Online Display': 0,\n",
       " 'Facebook>Paid Search': 0,\n",
       " 'Facebook>Instagram': 0,\n",
       " 'Online Display>Conversion': 0,\n",
       " 'Online Display>Online Video': 0,\n",
       " 'Online Display>Start': 0,\n",
       " 'Online Display>Null': 0,\n",
       " 'Online Display>Facebook': 0,\n",
       " 'Online Display>Online Display': 0,\n",
       " 'Online Display>Paid Search': 0,\n",
       " 'Online Display>Instagram': 0,\n",
       " 'Paid Search>Conversion': 0,\n",
       " 'Paid Search>Online Video': 0,\n",
       " 'Paid Search>Start': 0,\n",
       " 'Paid Search>Null': 0,\n",
       " 'Paid Search>Facebook': 0,\n",
       " 'Paid Search>Online Display': 0,\n",
       " 'Paid Search>Paid Search': 0,\n",
       " 'Paid Search>Instagram': 0,\n",
       " 'Instagram>Conversion': 0,\n",
       " 'Instagram>Online Video': 0,\n",
       " 'Instagram>Start': 0,\n",
       " 'Instagram>Null': 0,\n",
       " 'Instagram>Facebook': 0,\n",
       " 'Instagram>Online Display': 0,\n",
       " 'Instagram>Paid Search': 0,\n",
       " 'Instagram>Instagram': 0}"
      ]
     },
     "execution_count": 35,
     "metadata": {},
     "output_type": "execute_result"
    }
   ],
   "source": [
    "# 전이 가능성이 있는 모든 상태를 count 하기 위해서 0으로 초기화 한다.\n",
    "transition_states = {x + '>' + y: 0 for x in list_of_unique_channels for y in list_of_unique_channels}\n",
    "transition_states"
   ]
  },
  {
   "cell_type": "code",
   "execution_count": 36,
   "metadata": {},
   "outputs": [],
   "source": [
    "# Python for 문을 이용해서 각 상태에서 다음상태로 간 것이 몇 번 있었는지 구해보자\n",
    "\n",
    "for possible_state in list_of_unique_channels: # 전체 가능한 상태를 돌면서\n",
    "    if possible_state not in ['Conversion', 'Null']: # 마지막 상태인 전환/ 전환 안됨 상태를 제외하고\n",
    "        for user_path in list_of_paths: # 유저 각각의 이동 경로를 돌면서\n",
    "            # possible_state = \"Paid Search\"\n",
    "            # user_path = [\"start\", \"Paid Search\", \"Null\"]\n",
    "            if possible_state in user_path: # 그 이동경로에 possible_state 가 있다면\n",
    "\n",
    "                # 그 state 가 발견된 list 의 index 를 가져와서\n",
    "                indices = [i for i, s in enumerate(user_path) if possible_state in s] \n",
    "                for col in indices:\n",
    "                    # 그 state 와 다음 state의 전이 관계에 1씩 더해준다.\n",
    "                    key = user_path[col] + '>' + user_path[col + 1]\n",
    "                    transition_states[key] += 1 "
   ]
  },
  {
   "cell_type": "code",
   "execution_count": 37,
   "metadata": {},
   "outputs": [
    {
     "data": {
      "text/plain": [
       "{'Conversion>Conversion': 0,\n",
       " 'Conversion>Online Video': 0,\n",
       " 'Conversion>Start': 0,\n",
       " 'Conversion>Null': 0,\n",
       " 'Conversion>Facebook': 0,\n",
       " 'Conversion>Online Display': 0,\n",
       " 'Conversion>Paid Search': 0,\n",
       " 'Conversion>Instagram': 0,\n",
       " 'Online Video>Conversion': 3201,\n",
       " 'Online Video>Online Video': 0,\n",
       " 'Online Video>Start': 0,\n",
       " 'Online Video>Null': 31285,\n",
       " 'Online Video>Facebook': 2430,\n",
       " 'Online Video>Online Display': 775,\n",
       " 'Online Video>Paid Search': 1964,\n",
       " 'Online Video>Instagram': 1307,\n",
       " 'Start>Conversion': 0,\n",
       " 'Start>Online Video': 34182,\n",
       " 'Start>Start': 0,\n",
       " 'Start>Null': 0,\n",
       " 'Start>Facebook': 66848,\n",
       " 'Start>Online Display': 34250,\n",
       " 'Start>Paid Search': 76210,\n",
       " 'Start>Instagram': 28618,\n",
       " 'Null>Conversion': 0,\n",
       " 'Null>Online Video': 0,\n",
       " 'Null>Start': 0,\n",
       " 'Null>Null': 0,\n",
       " 'Null>Facebook': 0,\n",
       " 'Null>Online Display': 0,\n",
       " 'Null>Paid Search': 0,\n",
       " 'Null>Instagram': 0,\n",
       " 'Facebook>Conversion': 4690,\n",
       " 'Facebook>Online Video': 2254,\n",
       " 'Facebook>Start': 0,\n",
       " 'Facebook>Null': 59319,\n",
       " 'Facebook>Facebook': 0,\n",
       " 'Facebook>Online Display': 2146,\n",
       " 'Facebook>Paid Search': 4464,\n",
       " 'Facebook>Instagram': 15252,\n",
       " 'Online Display>Conversion': 2144,\n",
       " 'Online Display>Online Video': 737,\n",
       " 'Online Display>Start': 0,\n",
       " 'Online Display>Null': 32236,\n",
       " 'Online Display>Facebook': 2300,\n",
       " 'Online Display>Online Display': 0,\n",
       " 'Online Display>Paid Search': 3936,\n",
       " 'Online Display>Instagram': 1251,\n",
       " 'Paid Search>Conversion': 4736,\n",
       " 'Paid Search>Online Video': 2596,\n",
       " 'Paid Search>Start': 0,\n",
       " 'Paid Search>Null': 68476,\n",
       " 'Paid Search>Facebook': 5725,\n",
       " 'Paid Search>Online Display': 4269,\n",
       " 'Paid Search>Paid Search': 0,\n",
       " 'Paid Search>Instagram': 3038,\n",
       " 'Instagram>Conversion': 2868,\n",
       " 'Instagram>Online Video': 1193,\n",
       " 'Instagram>Start': 0,\n",
       " 'Instagram>Null': 31153,\n",
       " 'Instagram>Facebook': 10822,\n",
       " 'Instagram>Online Display': 1164,\n",
       " 'Instagram>Paid Search': 2266,\n",
       " 'Instagram>Instagram': 0}"
      ]
     },
     "execution_count": 37,
     "metadata": {},
     "output_type": "execute_result"
    }
   ],
   "source": [
    "transition_states"
   ]
  },
  {
   "cell_type": "code",
   "execution_count": 38,
   "metadata": {},
   "outputs": [],
   "source": [
    "# 위에서 한 내용을 간결하게 함수로 정리하면\n",
    "# 아래와 같은 함수가 하나 나온다\n",
    "def transition_states(list_of_paths):\n",
    "\n",
    "    # Unique한 State 를 구한다.\n",
    "    list_of_unique_channels = set(x for element in list_of_paths for x in element)\n",
    "    \n",
    "    transition_states = {x + '>' + y: 0 for x in list_of_unique_channels for y in list_of_unique_channels}\n",
    "\n",
    "    for possible_state in list_of_unique_channels:\n",
    "        if possible_state not in ['Conversion', 'Null']:\n",
    "            for user_path in list_of_paths:\n",
    "                if possible_state in user_path:\n",
    "                    indices = [i for i, s in enumerate(user_path) if possible_state in s]\n",
    "                    for col in indices:\n",
    "                        transition_states[user_path[col] + '>' + user_path[col + 1]] += 1\n",
    "\n",
    "    return transition_states\n",
    "\n",
    "\n",
    "trans_states = transition_states(list_of_paths)"
   ]
  },
  {
   "cell_type": "markdown",
   "metadata": {},
   "source": [
    "#### 확률로 정의해보자\n",
    "\n",
    "- transition probability 로 정의하려면, 각 채널에서 다음 채널로 가는 수를 다 더해서 나눠준다."
   ]
  },
  {
   "cell_type": "code",
   "execution_count": null,
   "metadata": {},
   "outputs": [],
   "source": [
    "# 빈도수 행렬\n",
    "\"\"\"\n",
    "          Start, Facebook, Conversion, Null\n",
    "Start    [[0,    100,      100      , 100 ],\n",
    "Facebook. [0,     0,       100      , 100 ],\n",
    "           ....]\n",
    "\"\"\"\n",
    "# Python Dictionary trans_states 에 빈도수를 계산해 놓은 상태입니다.\n",
    "\"\"\"\n",
    "{\n",
    "    'Start>Start': 0,\n",
    "    'Start>Facebook': 100,\n",
    "    ...\n",
    "    'Facebook>Start': 0,\n",
    "    'Facebook>Conversion': 100\n",
    "}\n",
    "\"\"\"\n",
    "# 전이 확률은? \n",
    "# Start 라는 현재 상태에서 다음상태로 가는 모든 빈도수를 다 더하면? 300\n",
    "# Facebook 라는 현재 상태에서 다음상태로 가는 모든 빈도수를 다 더하면? 200\n",
    "# P(X_n+1 = 'Start'|X_n = 'Start') \n",
    "# + P(X_n+1 = 'Facebook'|X_n = 'Start')\n",
    "# + P(X_n+1 = 'Conversion'|X_n = 'Start')\n",
    "# + P(X_n+1 = 'Null'|X_n = 'Start') = 1 \n",
    "\"\"\"\n",
    "          Start, Facebook, Conversion, Null\n",
    "Start    [[0,    100/300,     100/300, 100/300 ], \n",
    "Facebook. [0,     0,          100/200, 100/200 ], # = 1\n",
    "           ....]\n",
    "\"\"\"\n",
    "# Python Dictionary 에서 trans_prob 전이 확률을 구해보자\n",
    "\n",
    "# Python Dictionary trans_states 에 빈도수를 계산해 놓은 상태입니다.\n",
    "\"\"\"\n",
    "{\n",
    "    'Start>Start': 0,\n",
    "    'Start>Facebook': 100,\n",
    "    ...\n",
    "    'Facebook>Start': 0,\n",
    "    'Facebook>Conversion': 100\n",
    "}\n",
    "\"\"\"\n",
    "# 1) Start> : Start 로 시작하는 모든 상태들의 빈도수를 다 더해준다.\n",
    "# total = trans_states['Start>Start'] \n",
    "# + trans_states['Start>Facebook'] \n",
    "# + trans_states['Start>Conversion'] \n",
    "# + trans_states['Start>Null'] # = 전체 빈도수! 300\n",
    "\n",
    "# 2) 각 빈도수 (Start 로 시작하는) 를 Start 로 시작하는 모든 상태들의 빈도수 총합으로 나눠주면 \n",
    "# 우리는 전이 확률을 구할 수 있다.\n",
    "# Start -> Start로 가는 전이확률! = trans_states['Start>Start']/total"
   ]
  },
  {
   "cell_type": "code",
   "execution_count": 39,
   "metadata": {},
   "outputs": [],
   "source": [
    "# defaultdict를 활용한다\n",
    "trans_prob = defaultdict(dict)"
   ]
  },
  {
   "cell_type": "code",
   "execution_count": 40,
   "metadata": {},
   "outputs": [
    {
     "data": {
      "text/plain": [
       "0"
      ]
     },
     "execution_count": 40,
     "metadata": {},
     "output_type": "execute_result"
    }
   ],
   "source": [
    "# 원래 dictionary 는 할당하지 않은 키를 조회하면 KeyError 가 발생한다. \n",
    "# tmp = {}\n",
    "# tmp[0]\n",
    "# defaultdict 는 에러 대신에 default 값을 반환한다.\n",
    "\n",
    "tmp2 = defaultdict(int)\n",
    "tmp2[1]"
   ]
  },
  {
   "cell_type": "code",
   "execution_count": 41,
   "metadata": {},
   "outputs": [],
   "source": [
    "for state in list_of_unique_channels: \n",
    "    if state not in ['Conversion', 'Null']:\n",
    "        \n",
    "\n",
    "        # 1) trans_states 에서 각 채널에서 다른 채널로 가는 상태를 가져온다.\n",
    "        # 예를 들어 Instagram에서 다른 채널로 가는 상태는 Instagram>Facebook, Instagram>Null.. 등이 있다.\n",
    "        next_states_from_state = [s for s in trans_states if state + '>' in s]\n",
    "\n",
    "        # 2) counter 라는 변수를 0으로 초기화한다.\n",
    "        # counter: 그 State 에서 다른 State로 가는 모든 빈도수의 총합\n",
    "        counter = 0\n",
    "\n",
    "        # 3) 각 상태에서 다른 상태로 가는 모든 경우의 수에 해당하는 빈도수를 counter 에 다 더해줍니다.\n",
    "        # Instagram> 에 해당하는 사건의 수를 counter에 다 더한다.\n",
    "        # Instagram 에서 다른 State 로 가는 사건의 수를 구한 것이다.\n",
    "        for next_state in next_states_from_state:\n",
    "            # next_state = 'Instagram>Facebook'\n",
    "            # trans_states[next_state] # Instagram -> Facebook 가는 빈도수\n",
    "            if trans_states[next_state] > 0:\n",
    "                counter += trans_states[next_state]\n",
    "\n",
    "        # 앞에서 구한 counter 값으로 각 state 의 값을 나눠준다 \n",
    "        for next_state in next_states_from_state:\n",
    "            if trans_states[next_state] > 0:\n",
    "                state_prob = float((trans_states[next_state])) / float(counter)\n",
    "                trans_prob[next_state] = state_prob"
   ]
  },
  {
   "cell_type": "code",
   "execution_count": 42,
   "metadata": {},
   "outputs": [
    {
     "data": {
      "text/plain": [
       "defaultdict(dict,\n",
       "            {'Online Video>Conversion': 0.0781455983594551,\n",
       "             'Online Video>Null': 0.7637566525072018,\n",
       "             'Online Video>Facebook': 0.059323275230701626,\n",
       "             'Online Video>Online Display': 0.018919974610614718,\n",
       "             'Online Video>Paid Search': 0.04794687759386749,\n",
       "             'Online Video>Instagram': 0.03190762169815927,\n",
       "             'Start>Online Video': 0.14236093757808985,\n",
       "             'Start>Facebook': 0.2784080497109634,\n",
       "             'Start>Online Display': 0.14264414346877238,\n",
       "             'Start>Paid Search': 0.31739883718993117,\n",
       "             'Start>Instagram': 0.11918803205224315,\n",
       "             'Facebook>Conversion': 0.053219858156028366,\n",
       "             'Facebook>Online Video': 0.025577304964539006,\n",
       "             'Facebook>Null': 0.6731234042553191,\n",
       "             'Facebook>Online Display': 0.02435177304964539,\n",
       "             'Facebook>Paid Search': 0.05065531914893617,\n",
       "             'Facebook>Instagram': 0.1730723404255319,\n",
       "             'Online Display>Conversion': 0.05032391324758239,\n",
       "             'Online Display>Online Video': 0.017298845178856444,\n",
       "             'Online Display>Null': 0.7566425687728852,\n",
       "             'Online Display>Facebook': 0.053985541263731104,\n",
       "             'Online Display>Paid Search': 0.09238569148436766,\n",
       "             'Online Display>Instagram': 0.02936344005257722,\n",
       "             'Paid Search>Conversion': 0.053309320126069336,\n",
       "             'Paid Search>Online Video': 0.029221071589374155,\n",
       "             'Paid Search>Null': 0.7707789284106259,\n",
       "             'Paid Search>Facebook': 0.06444169293111211,\n",
       "             'Paid Search>Online Display': 0.04805267897343539,\n",
       "             'Paid Search>Instagram': 0.03419630796938316,\n",
       "             'Instagram>Conversion': 0.057979218048760765,\n",
       "             'Instagram>Online Video': 0.024117575708567502,\n",
       "             'Instagram>Null': 0.6297861157158452,\n",
       "             'Instagram>Facebook': 0.2187765333764606,\n",
       "             'Instagram>Online Display': 0.023531314438199977,\n",
       "             'Instagram>Paid Search': 0.04580924271216593})"
      ]
     },
     "execution_count": 42,
     "metadata": {},
     "output_type": "execute_result"
    }
   ],
   "source": [
    "trans_prob"
   ]
  },
  {
   "cell_type": "code",
   "execution_count": 43,
   "metadata": {},
   "outputs": [],
   "source": [
    "# 위와 같이 함수로 정리해보면\n",
    "\n",
    "def transition_prob(trans_dict):\n",
    "    list_of_unique_channels = set(x for element in list_of_paths for x in element)\n",
    "    trans_prob = defaultdict(dict)\n",
    "    for state in list_of_unique_channels: \n",
    "        if state not in ['Conversion', 'Null']:\n",
    "            # trans_dict 에서 각 채널에서 다른 채널로 가는 상태를 가져온다.\n",
    "            # 예를 들어 Instagram에서 다른 채널로 가는 상태는 Instagram>Facebook, Instagram>Null.. 등이 있다.\n",
    "            next_states_from_state = [s for s in trans_dict if state + '>' in s]\n",
    "\n",
    "            # counter 라는 변수를 0으로 초기화한다.\n",
    "            counter = 0\n",
    "\n",
    "            # Instagram> 에 해당하는 사건의 수를 counter에 다 더한다.\n",
    "            # Instagram 에서 다른 State 로 가는 사건의 수를 구한 것이다.\n",
    "            for next_state in next_states_from_state:\n",
    "                state \n",
    "                if trans_dict[next_state] > 0:\n",
    "                    counter += trans_dict[next_state]\n",
    "\n",
    "            # 앞에서 구한 counter 값으로 각 state 의 값을 나눠준다 \n",
    "            for next_state in next_states_from_state:\n",
    "                if trans_dict[next_state] > 0:\n",
    "                    state_prob = float((trans_dict[next_state])) / float(counter)\n",
    "                    trans_prob[next_state] = state_prob\n",
    "    return trans_prob\n",
    "\n",
    "\n",
    "trans_prob = transition_prob(trans_states)"
   ]
  },
  {
   "cell_type": "code",
   "execution_count": 44,
   "metadata": {},
   "outputs": [
    {
     "data": {
      "text/plain": [
       "defaultdict(dict,\n",
       "            {'Online Video>Conversion': 0.0781455983594551,\n",
       "             'Online Video>Null': 0.7637566525072018,\n",
       "             'Online Video>Facebook': 0.059323275230701626,\n",
       "             'Online Video>Online Display': 0.018919974610614718,\n",
       "             'Online Video>Paid Search': 0.04794687759386749,\n",
       "             'Online Video>Instagram': 0.03190762169815927,\n",
       "             'Start>Online Video': 0.14236093757808985,\n",
       "             'Start>Facebook': 0.2784080497109634,\n",
       "             'Start>Online Display': 0.14264414346877238,\n",
       "             'Start>Paid Search': 0.31739883718993117,\n",
       "             'Start>Instagram': 0.11918803205224315,\n",
       "             'Facebook>Conversion': 0.053219858156028366,\n",
       "             'Facebook>Online Video': 0.025577304964539006,\n",
       "             'Facebook>Null': 0.6731234042553191,\n",
       "             'Facebook>Online Display': 0.02435177304964539,\n",
       "             'Facebook>Paid Search': 0.05065531914893617,\n",
       "             'Facebook>Instagram': 0.1730723404255319,\n",
       "             'Online Display>Conversion': 0.05032391324758239,\n",
       "             'Online Display>Online Video': 0.017298845178856444,\n",
       "             'Online Display>Null': 0.7566425687728852,\n",
       "             'Online Display>Facebook': 0.053985541263731104,\n",
       "             'Online Display>Paid Search': 0.09238569148436766,\n",
       "             'Online Display>Instagram': 0.02936344005257722,\n",
       "             'Paid Search>Conversion': 0.053309320126069336,\n",
       "             'Paid Search>Online Video': 0.029221071589374155,\n",
       "             'Paid Search>Null': 0.7707789284106259,\n",
       "             'Paid Search>Facebook': 0.06444169293111211,\n",
       "             'Paid Search>Online Display': 0.04805267897343539,\n",
       "             'Paid Search>Instagram': 0.03419630796938316,\n",
       "             'Instagram>Conversion': 0.057979218048760765,\n",
       "             'Instagram>Online Video': 0.024117575708567502,\n",
       "             'Instagram>Null': 0.6297861157158452,\n",
       "             'Instagram>Facebook': 0.2187765333764606,\n",
       "             'Instagram>Online Display': 0.023531314438199977,\n",
       "             'Instagram>Paid Search': 0.04580924271216593})"
      ]
     },
     "execution_count": 44,
     "metadata": {},
     "output_type": "execute_result"
    }
   ],
   "source": [
    "trans_prob"
   ]
  },
  {
   "cell_type": "markdown",
   "metadata": {},
   "source": [
    "### 전이확률행렬(Transition Probability Matrix)로 만들기"
   ]
  },
  {
   "cell_type": "code",
   "execution_count": 45,
   "metadata": {},
   "outputs": [],
   "source": [
    "# list_of_unique_channels = set(x for element in list_of_paths for x in element)\n",
    "trans_matrix = pd.DataFrame()\n",
    "\n",
    "#\n",
    "#          Start | Instagram | Facebook |\n",
    "# Start     0.         0.5.       0.5\n",
    "# Intagram.  0.33.    0.33        0.33\n",
    "# Facebook. "
   ]
  },
  {
   "cell_type": "code",
   "execution_count": 46,
   "metadata": {},
   "outputs": [],
   "source": [
    "# Dataframe 의 index와 column에 채널을 추가하고\n",
    "# Conversion과 Null 인 경우 그 다음 State 로 갈 수 없기 때문에, 각각 1을 부여한다\n",
    "for channel in list_of_unique_channels:\n",
    "    trans_matrix[channel] = 0.00\n",
    "    trans_matrix.loc[channel] = 0.00\n",
    "\n",
    "    # 자기 자신으로 가는 확률을 부여한다.\n",
    "    trans_matrix.loc[channel][channel] = 1.0 if channel in ['Conversion', 'Null'] else 0.0\n"
   ]
  },
  {
   "cell_type": "code",
   "execution_count": 47,
   "metadata": {},
   "outputs": [],
   "source": [
    "# 전이행렬에 값을 입력한다\n",
    "for key, value in trans_prob.items():\n",
    "    origin, destination = key.split('>') # From, To \n",
    "    trans_matrix.at[origin, destination] = value"
   ]
  },
  {
   "cell_type": "code",
   "execution_count": 48,
   "metadata": {},
   "outputs": [
    {
     "data": {
      "text/html": [
       "<div>\n",
       "<style scoped>\n",
       "    .dataframe tbody tr th:only-of-type {\n",
       "        vertical-align: middle;\n",
       "    }\n",
       "\n",
       "    .dataframe tbody tr th {\n",
       "        vertical-align: top;\n",
       "    }\n",
       "\n",
       "    .dataframe thead th {\n",
       "        text-align: right;\n",
       "    }\n",
       "</style>\n",
       "<table border=\"1\" class=\"dataframe\">\n",
       "  <thead>\n",
       "    <tr style=\"text-align: right;\">\n",
       "      <th></th>\n",
       "      <th>Conversion</th>\n",
       "      <th>Online Video</th>\n",
       "      <th>Start</th>\n",
       "      <th>Null</th>\n",
       "      <th>Facebook</th>\n",
       "      <th>Online Display</th>\n",
       "      <th>Paid Search</th>\n",
       "      <th>Instagram</th>\n",
       "    </tr>\n",
       "  </thead>\n",
       "  <tbody>\n",
       "    <tr>\n",
       "      <th>Conversion</th>\n",
       "      <td>1.000000</td>\n",
       "      <td>0.000000</td>\n",
       "      <td>0.0</td>\n",
       "      <td>0.000000</td>\n",
       "      <td>0.000000</td>\n",
       "      <td>0.000000</td>\n",
       "      <td>0.000000</td>\n",
       "      <td>0.000000</td>\n",
       "    </tr>\n",
       "    <tr>\n",
       "      <th>Online Video</th>\n",
       "      <td>0.078146</td>\n",
       "      <td>0.000000</td>\n",
       "      <td>0.0</td>\n",
       "      <td>0.763757</td>\n",
       "      <td>0.059323</td>\n",
       "      <td>0.018920</td>\n",
       "      <td>0.047947</td>\n",
       "      <td>0.031908</td>\n",
       "    </tr>\n",
       "    <tr>\n",
       "      <th>Start</th>\n",
       "      <td>0.000000</td>\n",
       "      <td>0.142361</td>\n",
       "      <td>0.0</td>\n",
       "      <td>0.000000</td>\n",
       "      <td>0.278408</td>\n",
       "      <td>0.142644</td>\n",
       "      <td>0.317399</td>\n",
       "      <td>0.119188</td>\n",
       "    </tr>\n",
       "    <tr>\n",
       "      <th>Null</th>\n",
       "      <td>0.000000</td>\n",
       "      <td>0.000000</td>\n",
       "      <td>0.0</td>\n",
       "      <td>1.000000</td>\n",
       "      <td>0.000000</td>\n",
       "      <td>0.000000</td>\n",
       "      <td>0.000000</td>\n",
       "      <td>0.000000</td>\n",
       "    </tr>\n",
       "    <tr>\n",
       "      <th>Facebook</th>\n",
       "      <td>0.053220</td>\n",
       "      <td>0.025577</td>\n",
       "      <td>0.0</td>\n",
       "      <td>0.673123</td>\n",
       "      <td>0.000000</td>\n",
       "      <td>0.024352</td>\n",
       "      <td>0.050655</td>\n",
       "      <td>0.173072</td>\n",
       "    </tr>\n",
       "    <tr>\n",
       "      <th>Online Display</th>\n",
       "      <td>0.050324</td>\n",
       "      <td>0.017299</td>\n",
       "      <td>0.0</td>\n",
       "      <td>0.756643</td>\n",
       "      <td>0.053986</td>\n",
       "      <td>0.000000</td>\n",
       "      <td>0.092386</td>\n",
       "      <td>0.029363</td>\n",
       "    </tr>\n",
       "    <tr>\n",
       "      <th>Paid Search</th>\n",
       "      <td>0.053309</td>\n",
       "      <td>0.029221</td>\n",
       "      <td>0.0</td>\n",
       "      <td>0.770779</td>\n",
       "      <td>0.064442</td>\n",
       "      <td>0.048053</td>\n",
       "      <td>0.000000</td>\n",
       "      <td>0.034196</td>\n",
       "    </tr>\n",
       "    <tr>\n",
       "      <th>Instagram</th>\n",
       "      <td>0.057979</td>\n",
       "      <td>0.024118</td>\n",
       "      <td>0.0</td>\n",
       "      <td>0.629786</td>\n",
       "      <td>0.218777</td>\n",
       "      <td>0.023531</td>\n",
       "      <td>0.045809</td>\n",
       "      <td>0.000000</td>\n",
       "    </tr>\n",
       "  </tbody>\n",
       "</table>\n",
       "</div>"
      ],
      "text/plain": [
       "                Conversion  Online Video  Start      Null  Facebook  \\\n",
       "Conversion        1.000000      0.000000    0.0  0.000000  0.000000   \n",
       "Online Video      0.078146      0.000000    0.0  0.763757  0.059323   \n",
       "Start             0.000000      0.142361    0.0  0.000000  0.278408   \n",
       "Null              0.000000      0.000000    0.0  1.000000  0.000000   \n",
       "Facebook          0.053220      0.025577    0.0  0.673123  0.000000   \n",
       "Online Display    0.050324      0.017299    0.0  0.756643  0.053986   \n",
       "Paid Search       0.053309      0.029221    0.0  0.770779  0.064442   \n",
       "Instagram         0.057979      0.024118    0.0  0.629786  0.218777   \n",
       "\n",
       "                Online Display  Paid Search  Instagram  \n",
       "Conversion            0.000000     0.000000   0.000000  \n",
       "Online Video          0.018920     0.047947   0.031908  \n",
       "Start                 0.142644     0.317399   0.119188  \n",
       "Null                  0.000000     0.000000   0.000000  \n",
       "Facebook              0.024352     0.050655   0.173072  \n",
       "Online Display        0.000000     0.092386   0.029363  \n",
       "Paid Search           0.048053     0.000000   0.034196  \n",
       "Instagram             0.023531     0.045809   0.000000  "
      ]
     },
     "execution_count": 48,
     "metadata": {},
     "output_type": "execute_result"
    }
   ],
   "source": [
    "trans_matrix"
   ]
  },
  {
   "cell_type": "code",
   "execution_count": 49,
   "metadata": {},
   "outputs": [],
   "source": [
    "# 이것도 깔끔하게 만들기 위해 함수를 사용해보자\n",
    "\n",
    "def transition_matrix(list_of_paths, transition_probabilities):\n",
    "\n",
    "    # 1) trans_matrix 초기화\n",
    "    trans_matrix = pd.DataFrame()\n",
    "    \n",
    "\n",
    "    for channel in list_of_unique_channels:\n",
    "        trans_matrix[channel] = 0.00\n",
    "        trans_matrix.loc[channel] = 0.00\n",
    "        trans_matrix.loc[channel][channel] = 1.0 if channel in ['Conversion', 'Null'] else 0.0\n",
    "\n",
    "    # 2) trans_matrix 에 Transition Probability 를 각각 할당\n",
    "    for key, value in transition_probabilities.items():\n",
    "        origin, destination = key.split('>')\n",
    "        trans_matrix.at[origin, destination] = value\n",
    "\n",
    "    return trans_matrix\n",
    "\n",
    "\n",
    "trans_matrix = transition_matrix(list_of_paths, trans_prob)"
   ]
  },
  {
   "cell_type": "code",
   "execution_count": 50,
   "metadata": {},
   "outputs": [
    {
     "data": {
      "text/html": [
       "<div>\n",
       "<style scoped>\n",
       "    .dataframe tbody tr th:only-of-type {\n",
       "        vertical-align: middle;\n",
       "    }\n",
       "\n",
       "    .dataframe tbody tr th {\n",
       "        vertical-align: top;\n",
       "    }\n",
       "\n",
       "    .dataframe thead th {\n",
       "        text-align: right;\n",
       "    }\n",
       "</style>\n",
       "<table border=\"1\" class=\"dataframe\">\n",
       "  <thead>\n",
       "    <tr style=\"text-align: right;\">\n",
       "      <th></th>\n",
       "      <th>Conversion</th>\n",
       "      <th>Online Video</th>\n",
       "      <th>Start</th>\n",
       "      <th>Null</th>\n",
       "      <th>Facebook</th>\n",
       "      <th>Online Display</th>\n",
       "      <th>Paid Search</th>\n",
       "      <th>Instagram</th>\n",
       "    </tr>\n",
       "  </thead>\n",
       "  <tbody>\n",
       "    <tr>\n",
       "      <th>Conversion</th>\n",
       "      <td>1.000000</td>\n",
       "      <td>0.000000</td>\n",
       "      <td>0.0</td>\n",
       "      <td>0.000000</td>\n",
       "      <td>0.000000</td>\n",
       "      <td>0.000000</td>\n",
       "      <td>0.000000</td>\n",
       "      <td>0.000000</td>\n",
       "    </tr>\n",
       "    <tr>\n",
       "      <th>Online Video</th>\n",
       "      <td>0.078146</td>\n",
       "      <td>0.000000</td>\n",
       "      <td>0.0</td>\n",
       "      <td>0.763757</td>\n",
       "      <td>0.059323</td>\n",
       "      <td>0.018920</td>\n",
       "      <td>0.047947</td>\n",
       "      <td>0.031908</td>\n",
       "    </tr>\n",
       "    <tr>\n",
       "      <th>Start</th>\n",
       "      <td>0.000000</td>\n",
       "      <td>0.142361</td>\n",
       "      <td>0.0</td>\n",
       "      <td>0.000000</td>\n",
       "      <td>0.278408</td>\n",
       "      <td>0.142644</td>\n",
       "      <td>0.317399</td>\n",
       "      <td>0.119188</td>\n",
       "    </tr>\n",
       "    <tr>\n",
       "      <th>Null</th>\n",
       "      <td>0.000000</td>\n",
       "      <td>0.000000</td>\n",
       "      <td>0.0</td>\n",
       "      <td>1.000000</td>\n",
       "      <td>0.000000</td>\n",
       "      <td>0.000000</td>\n",
       "      <td>0.000000</td>\n",
       "      <td>0.000000</td>\n",
       "    </tr>\n",
       "    <tr>\n",
       "      <th>Facebook</th>\n",
       "      <td>0.053220</td>\n",
       "      <td>0.025577</td>\n",
       "      <td>0.0</td>\n",
       "      <td>0.673123</td>\n",
       "      <td>0.000000</td>\n",
       "      <td>0.024352</td>\n",
       "      <td>0.050655</td>\n",
       "      <td>0.173072</td>\n",
       "    </tr>\n",
       "    <tr>\n",
       "      <th>Online Display</th>\n",
       "      <td>0.050324</td>\n",
       "      <td>0.017299</td>\n",
       "      <td>0.0</td>\n",
       "      <td>0.756643</td>\n",
       "      <td>0.053986</td>\n",
       "      <td>0.000000</td>\n",
       "      <td>0.092386</td>\n",
       "      <td>0.029363</td>\n",
       "    </tr>\n",
       "    <tr>\n",
       "      <th>Paid Search</th>\n",
       "      <td>0.053309</td>\n",
       "      <td>0.029221</td>\n",
       "      <td>0.0</td>\n",
       "      <td>0.770779</td>\n",
       "      <td>0.064442</td>\n",
       "      <td>0.048053</td>\n",
       "      <td>0.000000</td>\n",
       "      <td>0.034196</td>\n",
       "    </tr>\n",
       "    <tr>\n",
       "      <th>Instagram</th>\n",
       "      <td>0.057979</td>\n",
       "      <td>0.024118</td>\n",
       "      <td>0.0</td>\n",
       "      <td>0.629786</td>\n",
       "      <td>0.218777</td>\n",
       "      <td>0.023531</td>\n",
       "      <td>0.045809</td>\n",
       "      <td>0.000000</td>\n",
       "    </tr>\n",
       "  </tbody>\n",
       "</table>\n",
       "</div>"
      ],
      "text/plain": [
       "                Conversion  Online Video  Start      Null  Facebook  \\\n",
       "Conversion        1.000000      0.000000    0.0  0.000000  0.000000   \n",
       "Online Video      0.078146      0.000000    0.0  0.763757  0.059323   \n",
       "Start             0.000000      0.142361    0.0  0.000000  0.278408   \n",
       "Null              0.000000      0.000000    0.0  1.000000  0.000000   \n",
       "Facebook          0.053220      0.025577    0.0  0.673123  0.000000   \n",
       "Online Display    0.050324      0.017299    0.0  0.756643  0.053986   \n",
       "Paid Search       0.053309      0.029221    0.0  0.770779  0.064442   \n",
       "Instagram         0.057979      0.024118    0.0  0.629786  0.218777   \n",
       "\n",
       "                Online Display  Paid Search  Instagram  \n",
       "Conversion            0.000000     0.000000   0.000000  \n",
       "Online Video          0.018920     0.047947   0.031908  \n",
       "Start                 0.142644     0.317399   0.119188  \n",
       "Null                  0.000000     0.000000   0.000000  \n",
       "Facebook              0.024352     0.050655   0.173072  \n",
       "Online Display        0.000000     0.092386   0.029363  \n",
       "Paid Search           0.048053     0.000000   0.034196  \n",
       "Instagram             0.023531     0.045809   0.000000  "
      ]
     },
     "execution_count": 50,
     "metadata": {},
     "output_type": "execute_result"
    }
   ],
   "source": [
    "trans_matrix"
   ]
  },
  {
   "cell_type": "code",
   "execution_count": 52,
   "metadata": {
    "scrolled": false
   },
   "outputs": [
    {
     "data": {
      "image/png": "[encoded data removed]",
      "text/plain": [
       "<Figure size 648x504 with 2 Axes>"
      ]
     },
     "metadata": {},
     "output_type": "display_data"
    }
   ],
   "source": [
    "# 마지막으로 히트맵으로 시각화 확인\n",
    "sns.set_theme(style=\"whitegrid\", palette=\"pastel\") # 테마를 설정한다\n",
    "g = sns.heatmap(trans_matrix, annot=True, fmt='.2%', cmap=\"Blues\")\n",
    "g.figure.set_size_inches(9, 7) # 그래프의 크기를 키운다"
   ]
  },
  {
   "cell_type": "markdown",
   "metadata": {},
   "source": [
    "### 각 채널의 Remove Effect 제거 효과를 구해보자\n",
    "\n",
    "- 앞에서 구한 전이행렬로 각 채널의 기여도 분석"
   ]
  },
  {
   "cell_type": "code",
   "execution_count": 53,
   "metadata": {},
   "outputs": [
    {
     "data": {
      "text/html": [
       "<div>\n",
       "<style scoped>\n",
       "    .dataframe tbody tr th:only-of-type {\n",
       "        vertical-align: middle;\n",
       "    }\n",
       "\n",
       "    .dataframe tbody tr th {\n",
       "        vertical-align: top;\n",
       "    }\n",
       "\n",
       "    .dataframe thead th {\n",
       "        text-align: right;\n",
       "    }\n",
       "</style>\n",
       "<table border=\"1\" class=\"dataframe\">\n",
       "  <thead>\n",
       "    <tr style=\"text-align: right;\">\n",
       "      <th></th>\n",
       "      <th>Conversion</th>\n",
       "      <th>Online Video</th>\n",
       "      <th>Start</th>\n",
       "      <th>Null</th>\n",
       "      <th>Facebook</th>\n",
       "      <th>Online Display</th>\n",
       "      <th>Paid Search</th>\n",
       "      <th>Instagram</th>\n",
       "    </tr>\n",
       "  </thead>\n",
       "  <tbody>\n",
       "    <tr>\n",
       "      <th>Conversion</th>\n",
       "      <td>1.000000</td>\n",
       "      <td>0.000000</td>\n",
       "      <td>0.0</td>\n",
       "      <td>0.000000</td>\n",
       "      <td>0.000000</td>\n",
       "      <td>0.000000</td>\n",
       "      <td>0.000000</td>\n",
       "      <td>0.000000</td>\n",
       "    </tr>\n",
       "    <tr>\n",
       "      <th>Online Video</th>\n",
       "      <td>0.078146</td>\n",
       "      <td>0.000000</td>\n",
       "      <td>0.0</td>\n",
       "      <td>0.763757</td>\n",
       "      <td>0.059323</td>\n",
       "      <td>0.018920</td>\n",
       "      <td>0.047947</td>\n",
       "      <td>0.031908</td>\n",
       "    </tr>\n",
       "    <tr>\n",
       "      <th>Start</th>\n",
       "      <td>0.000000</td>\n",
       "      <td>0.142361</td>\n",
       "      <td>0.0</td>\n",
       "      <td>0.000000</td>\n",
       "      <td>0.278408</td>\n",
       "      <td>0.142644</td>\n",
       "      <td>0.317399</td>\n",
       "      <td>0.119188</td>\n",
       "    </tr>\n",
       "    <tr>\n",
       "      <th>Null</th>\n",
       "      <td>0.000000</td>\n",
       "      <td>0.000000</td>\n",
       "      <td>0.0</td>\n",
       "      <td>1.000000</td>\n",
       "      <td>0.000000</td>\n",
       "      <td>0.000000</td>\n",
       "      <td>0.000000</td>\n",
       "      <td>0.000000</td>\n",
       "    </tr>\n",
       "    <tr>\n",
       "      <th>Facebook</th>\n",
       "      <td>0.053220</td>\n",
       "      <td>0.025577</td>\n",
       "      <td>0.0</td>\n",
       "      <td>0.673123</td>\n",
       "      <td>0.000000</td>\n",
       "      <td>0.024352</td>\n",
       "      <td>0.050655</td>\n",
       "      <td>0.173072</td>\n",
       "    </tr>\n",
       "  </tbody>\n",
       "</table>\n",
       "</div>"
      ],
      "text/plain": [
       "              Conversion  Online Video  Start      Null  Facebook  \\\n",
       "Conversion      1.000000      0.000000    0.0  0.000000  0.000000   \n",
       "Online Video    0.078146      0.000000    0.0  0.763757  0.059323   \n",
       "Start           0.000000      0.142361    0.0  0.000000  0.278408   \n",
       "Null            0.000000      0.000000    0.0  1.000000  0.000000   \n",
       "Facebook        0.053220      0.025577    0.0  0.673123  0.000000   \n",
       "\n",
       "              Online Display  Paid Search  Instagram  \n",
       "Conversion          0.000000     0.000000   0.000000  \n",
       "Online Video        0.018920     0.047947   0.031908  \n",
       "Start               0.142644     0.317399   0.119188  \n",
       "Null                0.000000     0.000000   0.000000  \n",
       "Facebook            0.024352     0.050655   0.173072  "
      ]
     },
     "execution_count": 53,
     "metadata": {},
     "output_type": "execute_result"
    }
   ],
   "source": [
    "trans_matrix.head()"
   ]
  },
  {
   "cell_type": "code",
   "execution_count": 55,
   "metadata": {},
   "outputs": [
    {
     "data": {
      "text/plain": [
       "['Online Video', 'Facebook', 'Online Display', 'Paid Search', 'Instagram']"
      ]
     },
     "execution_count": 55,
     "metadata": {},
     "output_type": "execute_result"
    }
   ],
   "source": [
    "removal_effects_dict = {}\n",
    "channels = [column for column in trans_matrix.columns if column not in ['Start','Null','Conversion']]\n",
    "channels"
   ]
  },
  {
   "cell_type": "markdown",
   "metadata": {},
   "source": [
    "Facebook 의 제거효과를 구해보자\n",
    "- 목표: Facebook 으로 인한 전환이 다 없어졌다고 가정했을 때 전체 전환율을 구한다\n",
    "\n",
    "- 1) Facebook 으로 인한 전환을 제거하는 일\n",
    "- 2) 제거된 상태에서 전체 전환율을 다시 계산해보는 일 <- Absorbing Markov Chain 공식을 활용해 보려고 합니다"
   ]
  },
  {
   "cell_type": "code",
   "execution_count": 56,
   "metadata": {},
   "outputs": [
    {
     "data": {
      "text/html": [
       "<div>\n",
       "<style scoped>\n",
       "    .dataframe tbody tr th:only-of-type {\n",
       "        vertical-align: middle;\n",
       "    }\n",
       "\n",
       "    .dataframe tbody tr th {\n",
       "        vertical-align: top;\n",
       "    }\n",
       "\n",
       "    .dataframe thead th {\n",
       "        text-align: right;\n",
       "    }\n",
       "</style>\n",
       "<table border=\"1\" class=\"dataframe\">\n",
       "  <thead>\n",
       "    <tr style=\"text-align: right;\">\n",
       "      <th></th>\n",
       "      <th>Conversion</th>\n",
       "      <th>Online Video</th>\n",
       "      <th>Start</th>\n",
       "      <th>Null</th>\n",
       "      <th>Online Display</th>\n",
       "      <th>Paid Search</th>\n",
       "      <th>Instagram</th>\n",
       "    </tr>\n",
       "  </thead>\n",
       "  <tbody>\n",
       "    <tr>\n",
       "      <th>Conversion</th>\n",
       "      <td>1.000000</td>\n",
       "      <td>0.000000</td>\n",
       "      <td>0.0</td>\n",
       "      <td>0.000000</td>\n",
       "      <td>0.000000</td>\n",
       "      <td>0.000000</td>\n",
       "      <td>0.000000</td>\n",
       "    </tr>\n",
       "    <tr>\n",
       "      <th>Online Video</th>\n",
       "      <td>0.078146</td>\n",
       "      <td>0.000000</td>\n",
       "      <td>0.0</td>\n",
       "      <td>0.763757</td>\n",
       "      <td>0.018920</td>\n",
       "      <td>0.047947</td>\n",
       "      <td>0.031908</td>\n",
       "    </tr>\n",
       "    <tr>\n",
       "      <th>Start</th>\n",
       "      <td>0.000000</td>\n",
       "      <td>0.142361</td>\n",
       "      <td>0.0</td>\n",
       "      <td>0.000000</td>\n",
       "      <td>0.142644</td>\n",
       "      <td>0.317399</td>\n",
       "      <td>0.119188</td>\n",
       "    </tr>\n",
       "    <tr>\n",
       "      <th>Null</th>\n",
       "      <td>0.000000</td>\n",
       "      <td>0.000000</td>\n",
       "      <td>0.0</td>\n",
       "      <td>1.000000</td>\n",
       "      <td>0.000000</td>\n",
       "      <td>0.000000</td>\n",
       "      <td>0.000000</td>\n",
       "    </tr>\n",
       "    <tr>\n",
       "      <th>Online Display</th>\n",
       "      <td>0.050324</td>\n",
       "      <td>0.017299</td>\n",
       "      <td>0.0</td>\n",
       "      <td>0.756643</td>\n",
       "      <td>0.000000</td>\n",
       "      <td>0.092386</td>\n",
       "      <td>0.029363</td>\n",
       "    </tr>\n",
       "    <tr>\n",
       "      <th>Paid Search</th>\n",
       "      <td>0.053309</td>\n",
       "      <td>0.029221</td>\n",
       "      <td>0.0</td>\n",
       "      <td>0.770779</td>\n",
       "      <td>0.048053</td>\n",
       "      <td>0.000000</td>\n",
       "      <td>0.034196</td>\n",
       "    </tr>\n",
       "    <tr>\n",
       "      <th>Instagram</th>\n",
       "      <td>0.057979</td>\n",
       "      <td>0.024118</td>\n",
       "      <td>0.0</td>\n",
       "      <td>0.629786</td>\n",
       "      <td>0.023531</td>\n",
       "      <td>0.045809</td>\n",
       "      <td>0.000000</td>\n",
       "    </tr>\n",
       "  </tbody>\n",
       "</table>\n",
       "</div>"
      ],
      "text/plain": [
       "                Conversion  Online Video  Start      Null  Online Display  \\\n",
       "Conversion        1.000000      0.000000    0.0  0.000000        0.000000   \n",
       "Online Video      0.078146      0.000000    0.0  0.763757        0.018920   \n",
       "Start             0.000000      0.142361    0.0  0.000000        0.142644   \n",
       "Null              0.000000      0.000000    0.0  1.000000        0.000000   \n",
       "Online Display    0.050324      0.017299    0.0  0.756643        0.000000   \n",
       "Paid Search       0.053309      0.029221    0.0  0.770779        0.048053   \n",
       "Instagram         0.057979      0.024118    0.0  0.629786        0.023531   \n",
       "\n",
       "                Paid Search  Instagram  \n",
       "Conversion         0.000000   0.000000  \n",
       "Online Video       0.047947   0.031908  \n",
       "Start              0.317399   0.119188  \n",
       "Null               0.000000   0.000000  \n",
       "Online Display     0.092386   0.029363  \n",
       "Paid Search        0.000000   0.034196  \n",
       "Instagram          0.045809   0.000000  "
      ]
     },
     "execution_count": 56,
     "metadata": {},
     "output_type": "execute_result"
    }
   ],
   "source": [
    "channel = 'Facebook'\n",
    "removal_df = trans_matrix.drop(channel, axis=1).drop(channel, axis=0)\n",
    "removal_df"
   ]
  },
  {
   "cell_type": "code",
   "execution_count": 57,
   "metadata": {},
   "outputs": [
    {
     "name": "stdout",
     "output_type": "stream",
     "text": [
      "Conversion 1.0 0.0\n",
      "Online Video 0.9406767247692984 0.05932327523070158\n",
      "Start 0.7215919502890366 0.27840804971096345\n",
      "Null 1.0 0.0\n",
      "Online Display 0.9460144587362689 0.05398554126373112\n",
      "Paid Search 0.9355583070688879 0.06444169293111213\n",
      "Instagram 0.7812234666235394 0.21877653337646064\n"
     ]
    }
   ],
   "source": [
    "# Facebook 으로 가던 전이 확률을 다 Null 로 가는 확률로 더해준다!\n",
    "for column in removal_df.columns:\n",
    "\n",
    "    # 각 전이행렬의 row 별 sum 을 구해서\n",
    "    row_sum = np.sum(list(removal_df.loc[column]))\n",
    "\n",
    "    # 1에서 빠진 부분만큼 Null 로 채워주자 \n",
    "    null_pct = float(1) - row_sum\n",
    "    print(column, row_sum, null_pct)\n",
    "    if null_pct != 0:\n",
    "        removal_df.loc[column]['Null'] = removal_df.loc[column]['Null'] + null_pct\n",
    "    removal_df.loc['Null']['Null'] = 1.0"
   ]
  },
  {
   "cell_type": "code",
   "execution_count": 58,
   "metadata": {},
   "outputs": [
    {
     "data": {
      "text/html": [
       "<div>\n",
       "<style scoped>\n",
       "    .dataframe tbody tr th:only-of-type {\n",
       "        vertical-align: middle;\n",
       "    }\n",
       "\n",
       "    .dataframe tbody tr th {\n",
       "        vertical-align: top;\n",
       "    }\n",
       "\n",
       "    .dataframe thead th {\n",
       "        text-align: right;\n",
       "    }\n",
       "</style>\n",
       "<table border=\"1\" class=\"dataframe\">\n",
       "  <thead>\n",
       "    <tr style=\"text-align: right;\">\n",
       "      <th></th>\n",
       "      <th>Conversion</th>\n",
       "      <th>Online Video</th>\n",
       "      <th>Start</th>\n",
       "      <th>Null</th>\n",
       "      <th>Online Display</th>\n",
       "      <th>Paid Search</th>\n",
       "      <th>Instagram</th>\n",
       "    </tr>\n",
       "  </thead>\n",
       "  <tbody>\n",
       "    <tr>\n",
       "      <th>Conversion</th>\n",
       "      <td>1.000000</td>\n",
       "      <td>0.000000</td>\n",
       "      <td>0.0</td>\n",
       "      <td>0.000000</td>\n",
       "      <td>0.000000</td>\n",
       "      <td>0.000000</td>\n",
       "      <td>0.000000</td>\n",
       "    </tr>\n",
       "    <tr>\n",
       "      <th>Online Video</th>\n",
       "      <td>0.078146</td>\n",
       "      <td>0.000000</td>\n",
       "      <td>0.0</td>\n",
       "      <td>0.823080</td>\n",
       "      <td>0.018920</td>\n",
       "      <td>0.047947</td>\n",
       "      <td>0.031908</td>\n",
       "    </tr>\n",
       "    <tr>\n",
       "      <th>Start</th>\n",
       "      <td>0.000000</td>\n",
       "      <td>0.142361</td>\n",
       "      <td>0.0</td>\n",
       "      <td>0.278408</td>\n",
       "      <td>0.142644</td>\n",
       "      <td>0.317399</td>\n",
       "      <td>0.119188</td>\n",
       "    </tr>\n",
       "    <tr>\n",
       "      <th>Null</th>\n",
       "      <td>0.000000</td>\n",
       "      <td>0.000000</td>\n",
       "      <td>0.0</td>\n",
       "      <td>1.000000</td>\n",
       "      <td>0.000000</td>\n",
       "      <td>0.000000</td>\n",
       "      <td>0.000000</td>\n",
       "    </tr>\n",
       "    <tr>\n",
       "      <th>Online Display</th>\n",
       "      <td>0.050324</td>\n",
       "      <td>0.017299</td>\n",
       "      <td>0.0</td>\n",
       "      <td>0.810628</td>\n",
       "      <td>0.000000</td>\n",
       "      <td>0.092386</td>\n",
       "      <td>0.029363</td>\n",
       "    </tr>\n",
       "    <tr>\n",
       "      <th>Paid Search</th>\n",
       "      <td>0.053309</td>\n",
       "      <td>0.029221</td>\n",
       "      <td>0.0</td>\n",
       "      <td>0.835221</td>\n",
       "      <td>0.048053</td>\n",
       "      <td>0.000000</td>\n",
       "      <td>0.034196</td>\n",
       "    </tr>\n",
       "    <tr>\n",
       "      <th>Instagram</th>\n",
       "      <td>0.057979</td>\n",
       "      <td>0.024118</td>\n",
       "      <td>0.0</td>\n",
       "      <td>0.848563</td>\n",
       "      <td>0.023531</td>\n",
       "      <td>0.045809</td>\n",
       "      <td>0.000000</td>\n",
       "    </tr>\n",
       "  </tbody>\n",
       "</table>\n",
       "</div>"
      ],
      "text/plain": [
       "                Conversion  Online Video  Start      Null  Online Display  \\\n",
       "Conversion        1.000000      0.000000    0.0  0.000000        0.000000   \n",
       "Online Video      0.078146      0.000000    0.0  0.823080        0.018920   \n",
       "Start             0.000000      0.142361    0.0  0.278408        0.142644   \n",
       "Null              0.000000      0.000000    0.0  1.000000        0.000000   \n",
       "Online Display    0.050324      0.017299    0.0  0.810628        0.000000   \n",
       "Paid Search       0.053309      0.029221    0.0  0.835221        0.048053   \n",
       "Instagram         0.057979      0.024118    0.0  0.848563        0.023531   \n",
       "\n",
       "                Paid Search  Instagram  \n",
       "Conversion         0.000000   0.000000  \n",
       "Online Video       0.047947   0.031908  \n",
       "Start              0.317399   0.119188  \n",
       "Null               0.000000   0.000000  \n",
       "Online Display     0.092386   0.029363  \n",
       "Paid Search        0.000000   0.034196  \n",
       "Instagram          0.045809   0.000000  "
      ]
     },
     "execution_count": 58,
     "metadata": {},
     "output_type": "execute_result"
    }
   ],
   "source": [
    "removal_df"
   ]
  },
  {
   "cell_type": "code",
   "execution_count": 59,
   "metadata": {},
   "outputs": [],
   "source": [
    "# Absorbing Markov Chain 공식 하나를 이용해서\n",
    "# 맨 처음에 Start 에서 시작해서 어떤 State 를 다 거치고 오더라도\n",
    "# 결과적으로 Conversion으로 가는 확률값 = Facebook 을 제거했을 때 Start에서 시작한 최종적인 전환율\n",
    "# Abosorbing States : Null or Conversion\n",
    "# Transient States: 변화하는 States 나머지 Start,... Channel \n",
    "\n",
    "\n",
    "removal_to_conv = removal_df[['Null', 'Conversion']].drop(['Null', 'Conversion'], axis=0)\n",
    "\n",
    "\n",
    "removal_to_non_conv = removal_df.drop(['Null', 'Conversion'], axis=1).drop(['Null', 'Conversion'], axis=0)"
   ]
  },
  {
   "cell_type": "code",
   "execution_count": 60,
   "metadata": {},
   "outputs": [
    {
     "data": {
      "text/html": [
       "<div>\n",
       "<style scoped>\n",
       "    .dataframe tbody tr th:only-of-type {\n",
       "        vertical-align: middle;\n",
       "    }\n",
       "\n",
       "    .dataframe tbody tr th {\n",
       "        vertical-align: top;\n",
       "    }\n",
       "\n",
       "    .dataframe thead th {\n",
       "        text-align: right;\n",
       "    }\n",
       "</style>\n",
       "<table border=\"1\" class=\"dataframe\">\n",
       "  <thead>\n",
       "    <tr style=\"text-align: right;\">\n",
       "      <th></th>\n",
       "      <th>Null</th>\n",
       "      <th>Conversion</th>\n",
       "    </tr>\n",
       "  </thead>\n",
       "  <tbody>\n",
       "    <tr>\n",
       "      <th>Online Video</th>\n",
       "      <td>0.823080</td>\n",
       "      <td>0.078146</td>\n",
       "    </tr>\n",
       "    <tr>\n",
       "      <th>Start</th>\n",
       "      <td>0.278408</td>\n",
       "      <td>0.000000</td>\n",
       "    </tr>\n",
       "    <tr>\n",
       "      <th>Online Display</th>\n",
       "      <td>0.810628</td>\n",
       "      <td>0.050324</td>\n",
       "    </tr>\n",
       "    <tr>\n",
       "      <th>Paid Search</th>\n",
       "      <td>0.835221</td>\n",
       "      <td>0.053309</td>\n",
       "    </tr>\n",
       "    <tr>\n",
       "      <th>Instagram</th>\n",
       "      <td>0.848563</td>\n",
       "      <td>0.057979</td>\n",
       "    </tr>\n",
       "  </tbody>\n",
       "</table>\n",
       "</div>"
      ],
      "text/plain": [
       "                    Null  Conversion\n",
       "Online Video    0.823080    0.078146\n",
       "Start           0.278408    0.000000\n",
       "Online Display  0.810628    0.050324\n",
       "Paid Search     0.835221    0.053309\n",
       "Instagram       0.848563    0.057979"
      ]
     },
     "execution_count": 60,
     "metadata": {},
     "output_type": "execute_result"
    }
   ],
   "source": [
    "# null, conversion 만 있는 dataframe \n",
    "removal_to_conv # = R"
   ]
  },
  {
   "cell_type": "code",
   "execution_count": 61,
   "metadata": {},
   "outputs": [
    {
     "data": {
      "text/html": [
       "<div>\n",
       "<style scoped>\n",
       "    .dataframe tbody tr th:only-of-type {\n",
       "        vertical-align: middle;\n",
       "    }\n",
       "\n",
       "    .dataframe tbody tr th {\n",
       "        vertical-align: top;\n",
       "    }\n",
       "\n",
       "    .dataframe thead th {\n",
       "        text-align: right;\n",
       "    }\n",
       "</style>\n",
       "<table border=\"1\" class=\"dataframe\">\n",
       "  <thead>\n",
       "    <tr style=\"text-align: right;\">\n",
       "      <th></th>\n",
       "      <th>Online Video</th>\n",
       "      <th>Start</th>\n",
       "      <th>Online Display</th>\n",
       "      <th>Paid Search</th>\n",
       "      <th>Instagram</th>\n",
       "    </tr>\n",
       "  </thead>\n",
       "  <tbody>\n",
       "    <tr>\n",
       "      <th>Online Video</th>\n",
       "      <td>0.000000</td>\n",
       "      <td>0.0</td>\n",
       "      <td>0.018920</td>\n",
       "      <td>0.047947</td>\n",
       "      <td>0.031908</td>\n",
       "    </tr>\n",
       "    <tr>\n",
       "      <th>Start</th>\n",
       "      <td>0.142361</td>\n",
       "      <td>0.0</td>\n",
       "      <td>0.142644</td>\n",
       "      <td>0.317399</td>\n",
       "      <td>0.119188</td>\n",
       "    </tr>\n",
       "    <tr>\n",
       "      <th>Online Display</th>\n",
       "      <td>0.017299</td>\n",
       "      <td>0.0</td>\n",
       "      <td>0.000000</td>\n",
       "      <td>0.092386</td>\n",
       "      <td>0.029363</td>\n",
       "    </tr>\n",
       "    <tr>\n",
       "      <th>Paid Search</th>\n",
       "      <td>0.029221</td>\n",
       "      <td>0.0</td>\n",
       "      <td>0.048053</td>\n",
       "      <td>0.000000</td>\n",
       "      <td>0.034196</td>\n",
       "    </tr>\n",
       "    <tr>\n",
       "      <th>Instagram</th>\n",
       "      <td>0.024118</td>\n",
       "      <td>0.0</td>\n",
       "      <td>0.023531</td>\n",
       "      <td>0.045809</td>\n",
       "      <td>0.000000</td>\n",
       "    </tr>\n",
       "  </tbody>\n",
       "</table>\n",
       "</div>"
      ],
      "text/plain": [
       "                Online Video  Start  Online Display  Paid Search  Instagram\n",
       "Online Video        0.000000    0.0        0.018920     0.047947   0.031908\n",
       "Start               0.142361    0.0        0.142644     0.317399   0.119188\n",
       "Online Display      0.017299    0.0        0.000000     0.092386   0.029363\n",
       "Paid Search         0.029221    0.0        0.048053     0.000000   0.034196\n",
       "Instagram           0.024118    0.0        0.023531     0.045809   0.000000"
      ]
     },
     "execution_count": 61,
     "metadata": {},
     "output_type": "execute_result"
    }
   ],
   "source": [
    "# null, conversion 을 제거한 dataframe \n",
    "removal_to_non_conv # = Q"
   ]
  },
  {
   "cell_type": "code",
   "execution_count": 62,
   "metadata": {},
   "outputs": [
    {
     "data": {
      "text/plain": [
       "array([[0.        , 0.        , 0.01891997, 0.04794688, 0.03190762],\n",
       "       [0.14236094, 0.        , 0.14264414, 0.31739884, 0.11918803],\n",
       "       [0.01729885, 0.        , 0.        , 0.09238569, 0.02936344],\n",
       "       [0.02922107, 0.        , 0.04805268, 0.        , 0.03419631],\n",
       "       [0.02411758, 0.        , 0.02353131, 0.04580924, 0.        ]])"
      ]
     },
     "execution_count": 62,
     "metadata": {},
     "output_type": "execute_result"
    }
   ],
   "source": [
    "# array형태로 보기\n",
    "np.asarray(removal_to_non_conv)"
   ]
  },
  {
   "cell_type": "markdown",
   "metadata": {},
   "source": [
    "Identity Matrix(단위 행렬): 단위행렬은 주대각선의 원소가 1이고, 나머지는 모두 0인 정사각행렬"
   ]
  },
  {
   "cell_type": "code",
   "execution_count": 63,
   "metadata": {},
   "outputs": [
    {
     "name": "stdout",
     "output_type": "stream",
     "text": [
      "[[1. 0. 0. 0. 0.]\n",
      " [0. 1. 0. 0. 0.]\n",
      " [0. 0. 1. 0. 0.]\n",
      " [0. 0. 0. 1. 0.]\n",
      " [0. 0. 0. 0. 1.]]\n",
      "[[0.         0.         0.01891997 0.04794688 0.03190762]\n",
      " [0.14236094 0.         0.14264414 0.31739884 0.11918803]\n",
      " [0.01729885 0.         0.         0.09238569 0.02936344]\n",
      " [0.02922107 0.         0.04805268 0.         0.03419631]\n",
      " [0.02411758 0.         0.02353131 0.04580924 0.        ]]\n"
     ]
    }
   ],
   "source": [
    "I = np.identity(len(removal_to_non_conv.columns))\n",
    "print(I)\n",
    "\n",
    "Q = np.asarray(removal_to_non_conv)\n",
    "print(Q)"
   ]
  },
  {
   "cell_type": "code",
   "execution_count": 64,
   "metadata": {},
   "outputs": [
    {
     "data": {
      "text/plain": [
       "array([[ 1.        ,  0.        , -0.01891997, -0.04794688, -0.03190762],\n",
       "       [-0.14236094,  1.        , -0.14264414, -0.31739884, -0.11918803],\n",
       "       [-0.01729885,  0.        ,  1.        , -0.09238569, -0.02936344],\n",
       "       [-0.02922107,  0.        , -0.04805268,  1.        , -0.03419631],\n",
       "       [-0.02411758,  0.        , -0.02353131, -0.04580924,  1.        ]])"
      ]
     },
     "execution_count": 64,
     "metadata": {},
     "output_type": "execute_result"
    },
    {
     "data": {
      "text/plain": [
       "array([[1.00272629, 0.        , 0.02226629, 0.05171129, 0.03441676],\n",
       "       [0.15875911, 1.        , 0.16562845, 0.34677051, 0.14097535],\n",
       "       [0.02099524, 0.        , 1.0057718 , 0.09545869, 0.03346716],\n",
       "       [0.03120237, 0.        , 0.04988651, 1.00779629, 0.03692335],\n",
       "       [0.02610673, 0.        , 0.0264894 , 0.0496598 , 1.00330901]])"
      ]
     },
     "execution_count": 64,
     "metadata": {},
     "output_type": "execute_result"
    }
   ],
   "source": [
    "mat = I - Q\n",
    "mat\n",
    "\n",
    "# 역행렬을 구한다 \n",
    "# F\n",
    "removal_inv_diff = np.linalg.inv(mat)\n",
    "F = np.linalg.inv(I - Q)\n",
    "removal_inv_diff # = F\n",
    "\n"
   ]
  },
  {
   "cell_type": "code",
   "execution_count": 66,
   "metadata": {},
   "outputs": [
    {
     "data": {
      "text/plain": [
       "array([[0.91576868, 0.08423132],\n",
       "       [0.95259886, 0.04740114],\n",
       "       [0.9407157 , 0.0592843 ],\n",
       "       [0.93918547, 0.06081453],\n",
       "       [0.93580842, 0.06419158]])"
      ]
     },
     "execution_count": 66,
     "metadata": {},
     "output_type": "execute_result"
    }
   ],
   "source": [
    "# 5*5 x 5*2 F X R\n",
    "\n",
    "# 앞의 Matrix 는 흡수 상태를 고려하여 구한 고정된 Matrix \n",
    "# 뒤의 Matrix 는 각 채널에서 전환으로 가는 확률에 대한 Matrix\n",
    "removal_dot_prod = np.dot(removal_inv_diff, np.asarray(removal_to_conv))\n",
    "removal_dot_prod # 5 x 2"
   ]
  },
  {
   "cell_type": "code",
   "execution_count": 67,
   "metadata": {},
   "outputs": [
    {
     "data": {
      "text/html": [
       "<div>\n",
       "<style scoped>\n",
       "    .dataframe tbody tr th:only-of-type {\n",
       "        vertical-align: middle;\n",
       "    }\n",
       "\n",
       "    .dataframe tbody tr th {\n",
       "        vertical-align: top;\n",
       "    }\n",
       "\n",
       "    .dataframe thead th {\n",
       "        text-align: right;\n",
       "    }\n",
       "</style>\n",
       "<table border=\"1\" class=\"dataframe\">\n",
       "  <thead>\n",
       "    <tr style=\"text-align: right;\">\n",
       "      <th></th>\n",
       "      <th>Null</th>\n",
       "      <th>Conversion</th>\n",
       "    </tr>\n",
       "  </thead>\n",
       "  <tbody>\n",
       "    <tr>\n",
       "      <th>Online Video</th>\n",
       "      <td>0.915769</td>\n",
       "      <td>0.084231</td>\n",
       "    </tr>\n",
       "    <tr>\n",
       "      <th>Start</th>\n",
       "      <td>0.952599</td>\n",
       "      <td>0.047401</td>\n",
       "    </tr>\n",
       "    <tr>\n",
       "      <th>Online Display</th>\n",
       "      <td>0.940716</td>\n",
       "      <td>0.059284</td>\n",
       "    </tr>\n",
       "    <tr>\n",
       "      <th>Paid Search</th>\n",
       "      <td>0.939185</td>\n",
       "      <td>0.060815</td>\n",
       "    </tr>\n",
       "    <tr>\n",
       "      <th>Instagram</th>\n",
       "      <td>0.935808</td>\n",
       "      <td>0.064192</td>\n",
       "    </tr>\n",
       "  </tbody>\n",
       "</table>\n",
       "</div>"
      ],
      "text/plain": [
       "                    Null  Conversion\n",
       "Online Video    0.915769    0.084231\n",
       "Start           0.952599    0.047401\n",
       "Online Display  0.940716    0.059284\n",
       "Paid Search     0.939185    0.060815\n",
       "Instagram       0.935808    0.064192"
      ]
     },
     "execution_count": 67,
     "metadata": {},
     "output_type": "execute_result"
    }
   ],
   "source": [
    "pd.DataFrame(removal_dot_prod, index=removal_to_conv.index, columns = removal_to_conv.columns)# [[1]]\n",
    "\n",
    "# 0(Null ), 1\n",
    "\n",
    "# 우리가 이 matrix, Dataframe 에서 알 수 있는 것은\n",
    "# Start -> Conversion : 0.047401 4.7%"
   ]
  },
  {
   "cell_type": "code",
   "execution_count": 68,
   "metadata": {},
   "outputs": [],
   "source": [
    "# Start -> Conversion 로 가는 확률, 즉 Facebook 제거 후 총 전환율을 가져온다.\n",
    "removal_cvr = pd.DataFrame(removal_dot_prod,index=removal_to_conv.index)[[1]].loc['Start'].values[0]"
   ]
  },
  {
   "cell_type": "code",
   "execution_count": 69,
   "metadata": {},
   "outputs": [
    {
     "data": {
      "text/plain": [
       "0.04740113808165116"
      ]
     },
     "execution_count": 69,
     "metadata": {},
     "output_type": "execute_result"
    },
    {
     "data": {
      "text/plain": [
       "0.07346277508454528"
      ]
     },
     "execution_count": 69,
     "metadata": {},
     "output_type": "execute_result"
    },
    {
     "data": {
      "text/plain": [
       "0.6452402325817279"
      ]
     },
     "execution_count": 69,
     "metadata": {},
     "output_type": "execute_result"
    },
    {
     "data": {
      "text/plain": [
       "0.3547597674182721"
      ]
     },
     "execution_count": 69,
     "metadata": {},
     "output_type": "execute_result"
    }
   ],
   "source": [
    "# Facebook 을 제거하니 Start -> Conversion, 즉 총 전환율은 다음과 같다.\n",
    "removal_cvr\n",
    "\n",
    "# 원래의 전환율은 다음과 같았다.\n",
    "base_conversion_rate\n",
    "\n",
    "# 전체 전환율 중 Facebook 을 제거한 전환율의 비중은 다음과 같다.\n",
    "removal_cvr / base_conversion_rate\n",
    "\n",
    "# 아 전환율의 35%가 사라질 수 있다 (하지만 모든 채널의 효과를 구해서 다시 비중을 조정해야 한다.)\n",
    "removal_effect = 1 - removal_cvr / base_conversion_rate\n",
    "removal_effect"
   ]
  },
  {
   "cell_type": "code",
   "execution_count": 70,
   "metadata": {},
   "outputs": [],
   "source": [
    "# 전과 같이 함수로 만들어서 표현한다\n",
    "# 모든 채널의 removal effect를 구하자\n",
    "\n",
    "def removal_effects(df, conversion_rate):\n",
    "    removal_effects_dict = {}\n",
    "    channels = [channel for channel in df.columns if channel not in ['Start',\n",
    "                                                                     'Null',\n",
    "                                                                     'Conversion']]\n",
    "    for channel in channels:\n",
    "        removal_df = df.drop(channel, axis=1).drop(channel, axis=0)\n",
    "        for column in removal_df.columns:\n",
    "            row_sum = np.sum(list(removal_df.loc[column]))\n",
    "            null_pct = float(1) - row_sum\n",
    "            if null_pct != 0:\n",
    "                removal_df.loc[column]['Null'] = removal_df.loc[column]['Null'] + null_pct\n",
    "            removal_df.loc['Null']['Null'] = 1.0\n",
    "\n",
    "        removal_to_conv = removal_df[\n",
    "            ['Null', 'Conversion']].drop(['Null', 'Conversion'], axis=0)\n",
    "        removal_to_non_conv = removal_df.drop(\n",
    "            ['Null', 'Conversion'], axis=1).drop(['Null', 'Conversion'], axis=0)\n",
    "\n",
    "        removal_inv_diff = np.linalg.inv(\n",
    "            np.identity(\n",
    "                len(removal_to_non_conv.columns)) - np.asarray(removal_to_non_conv))\n",
    "        removal_dot_prod = np.dot(removal_inv_diff, np.asarray(removal_to_conv))\n",
    "        removal_cvr = pd.DataFrame(removal_dot_prod,\n",
    "                                   index=removal_to_conv.index)[[1]].loc['Start'].values[0]\n",
    "        removal_effect = 1 - removal_cvr / conversion_rate\n",
    "        # removal_effects_dict\n",
    "        removal_effects_dict[channel] = removal_effect\n",
    "\n",
    "    return removal_effects_dict\n",
    "\n",
    "\n",
    "removal_effects_dict = removal_effects(trans_matrix, base_conversion_rate)"
   ]
  },
  {
   "cell_type": "code",
   "execution_count": 71,
   "metadata": {},
   "outputs": [
    {
     "data": {
      "text/plain": [
       "{'Online Video': 0.2069141165564219,\n",
       " 'Facebook': 0.3547597674182721,\n",
       " 'Online Display': 0.15435482356041286,\n",
       " 'Paid Search': 0.3311037560086154,\n",
       " 'Instagram': 0.21731366149038445}"
      ]
     },
     "execution_count": 71,
     "metadata": {},
     "output_type": "execute_result"
    }
   ],
   "source": [
    "removal_effects_dict"
   ]
  },
  {
   "cell_type": "markdown",
   "metadata": {},
   "source": [
    "전체 전환수에 대한 각 채널의 기여도를 구한다"
   ]
  },
  {
   "cell_type": "code",
   "execution_count": 72,
   "metadata": {},
   "outputs": [
    {
     "data": {
      "text/plain": [
       "1.2644461250341066"
      ]
     },
     "execution_count": 72,
     "metadata": {},
     "output_type": "execute_result"
    }
   ],
   "source": [
    "# 전체 확률을 다 더해준다.\n",
    "re_sum = np.sum(list(removal_effects_dict.values()))\n",
    "re_sum"
   ]
  },
  {
   "cell_type": "code",
   "execution_count": 73,
   "metadata": {},
   "outputs": [
    {
     "data": {
      "text/plain": [
       "17639"
      ]
     },
     "execution_count": 73,
     "metadata": {},
     "output_type": "execute_result"
    }
   ],
   "source": [
    "conversion_count"
   ]
  },
  {
   "cell_type": "code",
   "execution_count": 74,
   "metadata": {},
   "outputs": [
    {
     "name": "stdout",
     "output_type": "stream",
     "text": [
      "Online Video 2886.4480895461475\n",
      "Facebook 4948.892177847523\n",
      "Online Display 2153.2469267590836\n",
      "Paid Search 4618.891257291356\n",
      "Instagram 3031.5215485558915\n"
     ]
    }
   ],
   "source": [
    "for k, v in removal_effects_dict.items():\n",
    "\n",
    "  # 앞에서 구한 확률을 전체 확률로 나누고, 총 전환수에 곱한다.\n",
    "  # 의미: 각 제거 효과로 구한 확률의 비중만큼 전환에 대한 기여도를 재조정한다.\n",
    "  print(k, (v / re_sum) * conversion_count)"
   ]
  },
  {
   "cell_type": "code",
   "execution_count": 75,
   "metadata": {},
   "outputs": [],
   "source": [
    "# 역시 함수로 정리해보자\n",
    "def markov_chain_allocations(removal_effects, total_conversions):\n",
    "    re_sum = np.sum(list(removal_effects.values()))\n",
    "\n",
    "    return {k: (v / re_sum) * total_conversions for k, v in removal_effects.items()}\n",
    "\n",
    "\n",
    "attributions = markov_chain_allocations(removal_effects_dict, conversion_count)"
   ]
  },
  {
   "cell_type": "code",
   "execution_count": 76,
   "metadata": {},
   "outputs": [
    {
     "data": {
      "text/plain": [
       "{'Online Video': 2886.4480895461475,\n",
       " 'Facebook': 4948.892177847523,\n",
       " 'Online Display': 2153.2469267590836,\n",
       " 'Paid Search': 4618.891257291356,\n",
       " 'Instagram': 3031.5215485558915}"
      ]
     },
     "execution_count": 76,
     "metadata": {},
     "output_type": "execute_result"
    }
   ],
   "source": [
    "attributions"
   ]
  },
  {
   "cell_type": "code",
   "execution_count": 77,
   "metadata": {},
   "outputs": [
    {
     "data": {
      "text/html": [
       "<div>\n",
       "<style scoped>\n",
       "    .dataframe tbody tr th:only-of-type {\n",
       "        vertical-align: middle;\n",
       "    }\n",
       "\n",
       "    .dataframe tbody tr th {\n",
       "        vertical-align: top;\n",
       "    }\n",
       "\n",
       "    .dataframe thead th {\n",
       "        text-align: right;\n",
       "    }\n",
       "</style>\n",
       "<table border=\"1\" class=\"dataframe\">\n",
       "  <thead>\n",
       "    <tr style=\"text-align: right;\">\n",
       "      <th></th>\n",
       "      <th>channel</th>\n",
       "      <th>attribution</th>\n",
       "    </tr>\n",
       "  </thead>\n",
       "  <tbody>\n",
       "    <tr>\n",
       "      <th>0</th>\n",
       "      <td>Online Video</td>\n",
       "      <td>2886.448090</td>\n",
       "    </tr>\n",
       "    <tr>\n",
       "      <th>1</th>\n",
       "      <td>Facebook</td>\n",
       "      <td>4948.892178</td>\n",
       "    </tr>\n",
       "    <tr>\n",
       "      <th>2</th>\n",
       "      <td>Online Display</td>\n",
       "      <td>2153.246927</td>\n",
       "    </tr>\n",
       "    <tr>\n",
       "      <th>3</th>\n",
       "      <td>Paid Search</td>\n",
       "      <td>4618.891257</td>\n",
       "    </tr>\n",
       "    <tr>\n",
       "      <th>4</th>\n",
       "      <td>Instagram</td>\n",
       "      <td>3031.521549</td>\n",
       "    </tr>\n",
       "  </tbody>\n",
       "</table>\n",
       "</div>"
      ],
      "text/plain": [
       "          channel  attribution\n",
       "0    Online Video  2886.448090\n",
       "1        Facebook  4948.892178\n",
       "2  Online Display  2153.246927\n",
       "3     Paid Search  4618.891257\n",
       "4       Instagram  3031.521549"
      ]
     },
     "execution_count": 77,
     "metadata": {},
     "output_type": "execute_result"
    }
   ],
   "source": [
    "# 보기 쉽게 데이터 프레임으로 변환\n",
    "attribution_by_markov = pd.DataFrame({'channel': attributions.keys(), 'attribution': attributions.values()})\n",
    "attribution_by_markov"
   ]
  },
  {
   "cell_type": "code",
   "execution_count": 78,
   "metadata": {},
   "outputs": [
    {
     "data": {
      "image/png": "[encoded data removed]",
      "text/plain": [
       "<Figure size 720x504 with 1 Axes>"
      ]
     },
     "metadata": {},
     "output_type": "display_data"
    }
   ],
   "source": [
    "# 시각화\n",
    "sns.set_theme(style=\"whitegrid\", palette=\"Paired\") # 테마를 설정한다\n",
    "g = sns.barplot(x=attribution_by_markov.channel, y=attribution_by_markov.attribution, data = attribution_by_markov)\n",
    "g.figure.set_size_inches(10, 7)"
   ]
  },
  {
   "cell_type": "markdown",
   "metadata": {},
   "source": [
    "### 간단한 기여도 모델과 Markov Chain 모델로 구한 기여도 비교하기"
   ]
  },
  {
   "cell_type": "code",
   "execution_count": 79,
   "metadata": {},
   "outputs": [],
   "source": [
    "attribution_by_markov[\"method\"] = \"markov\""
   ]
  },
  {
   "cell_type": "code",
   "execution_count": 80,
   "metadata": {},
   "outputs": [
    {
     "ename": "FileNotFoundError",
     "evalue": "[Errno 2] No such file or directory: 'total_data.csv'",
     "output_type": "error",
     "traceback": [
      "\u001b[1;31m---------------------------------------------------------------------------\u001b[0m",
      "\u001b[1;31mFileNotFoundError\u001b[0m                         Traceback (most recent call last)",
      "\u001b[1;32m<ipython-input-80-db24c5094406>\u001b[0m in \u001b[0;36m<module>\u001b[1;34m\u001b[0m\n\u001b[0;32m      1\u001b[0m \u001b[1;31m# 앞에서 작업했던 데이터를 불러온다\u001b[0m\u001b[1;33m\u001b[0m\u001b[1;33m\u001b[0m\u001b[1;33m\u001b[0m\u001b[0m\n\u001b[1;32m----> 2\u001b[1;33m \u001b[0mtotal_data\u001b[0m \u001b[1;33m=\u001b[0m \u001b[0mpd\u001b[0m\u001b[1;33m.\u001b[0m\u001b[0mread_csv\u001b[0m\u001b[1;33m(\u001b[0m\u001b[1;34m'total_data.csv'\u001b[0m\u001b[1;33m)\u001b[0m\u001b[1;33m\u001b[0m\u001b[1;33m\u001b[0m\u001b[0m\n\u001b[0m",
      "\u001b[1;32m~\\Anaconda3\\lib\\site-packages\\pandas\\io\\parsers.py\u001b[0m in \u001b[0;36mread_csv\u001b[1;34m(filepath_or_buffer, sep, delimiter, header, names, index_col, usecols, squeeze, prefix, mangle_dupe_cols, dtype, engine, converters, true_values, false_values, skipinitialspace, skiprows, skipfooter, nrows, na_values, keep_default_na, na_filter, verbose, skip_blank_lines, parse_dates, infer_datetime_format, keep_date_col, date_parser, dayfirst, cache_dates, iterator, chunksize, compression, thousands, decimal, lineterminator, quotechar, quoting, doublequote, escapechar, comment, encoding, dialect, error_bad_lines, warn_bad_lines, delim_whitespace, low_memory, memory_map, float_precision)\u001b[0m\n\u001b[0;32m    684\u001b[0m     )\n\u001b[0;32m    685\u001b[0m \u001b[1;33m\u001b[0m\u001b[0m\n\u001b[1;32m--> 686\u001b[1;33m     \u001b[1;32mreturn\u001b[0m \u001b[0m_read\u001b[0m\u001b[1;33m(\u001b[0m\u001b[0mfilepath_or_buffer\u001b[0m\u001b[1;33m,\u001b[0m \u001b[0mkwds\u001b[0m\u001b[1;33m)\u001b[0m\u001b[1;33m\u001b[0m\u001b[1;33m\u001b[0m\u001b[0m\n\u001b[0m\u001b[0;32m    687\u001b[0m \u001b[1;33m\u001b[0m\u001b[0m\n\u001b[0;32m    688\u001b[0m \u001b[1;33m\u001b[0m\u001b[0m\n",
      "\u001b[1;32m~\\Anaconda3\\lib\\site-packages\\pandas\\io\\parsers.py\u001b[0m in \u001b[0;36m_read\u001b[1;34m(filepath_or_buffer, kwds)\u001b[0m\n\u001b[0;32m    450\u001b[0m \u001b[1;33m\u001b[0m\u001b[0m\n\u001b[0;32m    451\u001b[0m     \u001b[1;31m# Create the parser.\u001b[0m\u001b[1;33m\u001b[0m\u001b[1;33m\u001b[0m\u001b[1;33m\u001b[0m\u001b[0m\n\u001b[1;32m--> 452\u001b[1;33m     \u001b[0mparser\u001b[0m \u001b[1;33m=\u001b[0m \u001b[0mTextFileReader\u001b[0m\u001b[1;33m(\u001b[0m\u001b[0mfp_or_buf\u001b[0m\u001b[1;33m,\u001b[0m \u001b[1;33m**\u001b[0m\u001b[0mkwds\u001b[0m\u001b[1;33m)\u001b[0m\u001b[1;33m\u001b[0m\u001b[1;33m\u001b[0m\u001b[0m\n\u001b[0m\u001b[0;32m    453\u001b[0m \u001b[1;33m\u001b[0m\u001b[0m\n\u001b[0;32m    454\u001b[0m     \u001b[1;32mif\u001b[0m \u001b[0mchunksize\u001b[0m \u001b[1;32mor\u001b[0m \u001b[0miterator\u001b[0m\u001b[1;33m:\u001b[0m\u001b[1;33m\u001b[0m\u001b[1;33m\u001b[0m\u001b[0m\n",
      "\u001b[1;32m~\\Anaconda3\\lib\\site-packages\\pandas\\io\\parsers.py\u001b[0m in \u001b[0;36m__init__\u001b[1;34m(self, f, engine, **kwds)\u001b[0m\n\u001b[0;32m    944\u001b[0m             \u001b[0mself\u001b[0m\u001b[1;33m.\u001b[0m\u001b[0moptions\u001b[0m\u001b[1;33m[\u001b[0m\u001b[1;34m\"has_index_names\"\u001b[0m\u001b[1;33m]\u001b[0m \u001b[1;33m=\u001b[0m \u001b[0mkwds\u001b[0m\u001b[1;33m[\u001b[0m\u001b[1;34m\"has_index_names\"\u001b[0m\u001b[1;33m]\u001b[0m\u001b[1;33m\u001b[0m\u001b[1;33m\u001b[0m\u001b[0m\n\u001b[0;32m    945\u001b[0m \u001b[1;33m\u001b[0m\u001b[0m\n\u001b[1;32m--> 946\u001b[1;33m         \u001b[0mself\u001b[0m\u001b[1;33m.\u001b[0m\u001b[0m_make_engine\u001b[0m\u001b[1;33m(\u001b[0m\u001b[0mself\u001b[0m\u001b[1;33m.\u001b[0m\u001b[0mengine\u001b[0m\u001b[1;33m)\u001b[0m\u001b[1;33m\u001b[0m\u001b[1;33m\u001b[0m\u001b[0m\n\u001b[0m\u001b[0;32m    947\u001b[0m \u001b[1;33m\u001b[0m\u001b[0m\n\u001b[0;32m    948\u001b[0m     \u001b[1;32mdef\u001b[0m \u001b[0mclose\u001b[0m\u001b[1;33m(\u001b[0m\u001b[0mself\u001b[0m\u001b[1;33m)\u001b[0m\u001b[1;33m:\u001b[0m\u001b[1;33m\u001b[0m\u001b[1;33m\u001b[0m\u001b[0m\n",
      "\u001b[1;32m~\\Anaconda3\\lib\\site-packages\\pandas\\io\\parsers.py\u001b[0m in \u001b[0;36m_make_engine\u001b[1;34m(self, engine)\u001b[0m\n\u001b[0;32m   1176\u001b[0m     \u001b[1;32mdef\u001b[0m \u001b[0m_make_engine\u001b[0m\u001b[1;33m(\u001b[0m\u001b[0mself\u001b[0m\u001b[1;33m,\u001b[0m \u001b[0mengine\u001b[0m\u001b[1;33m=\u001b[0m\u001b[1;34m\"c\"\u001b[0m\u001b[1;33m)\u001b[0m\u001b[1;33m:\u001b[0m\u001b[1;33m\u001b[0m\u001b[1;33m\u001b[0m\u001b[0m\n\u001b[0;32m   1177\u001b[0m         \u001b[1;32mif\u001b[0m \u001b[0mengine\u001b[0m \u001b[1;33m==\u001b[0m \u001b[1;34m\"c\"\u001b[0m\u001b[1;33m:\u001b[0m\u001b[1;33m\u001b[0m\u001b[1;33m\u001b[0m\u001b[0m\n\u001b[1;32m-> 1178\u001b[1;33m             \u001b[0mself\u001b[0m\u001b[1;33m.\u001b[0m\u001b[0m_engine\u001b[0m \u001b[1;33m=\u001b[0m \u001b[0mCParserWrapper\u001b[0m\u001b[1;33m(\u001b[0m\u001b[0mself\u001b[0m\u001b[1;33m.\u001b[0m\u001b[0mf\u001b[0m\u001b[1;33m,\u001b[0m \u001b[1;33m**\u001b[0m\u001b[0mself\u001b[0m\u001b[1;33m.\u001b[0m\u001b[0moptions\u001b[0m\u001b[1;33m)\u001b[0m\u001b[1;33m\u001b[0m\u001b[1;33m\u001b[0m\u001b[0m\n\u001b[0m\u001b[0;32m   1179\u001b[0m         \u001b[1;32melse\u001b[0m\u001b[1;33m:\u001b[0m\u001b[1;33m\u001b[0m\u001b[1;33m\u001b[0m\u001b[0m\n\u001b[0;32m   1180\u001b[0m             \u001b[1;32mif\u001b[0m \u001b[0mengine\u001b[0m \u001b[1;33m==\u001b[0m \u001b[1;34m\"python\"\u001b[0m\u001b[1;33m:\u001b[0m\u001b[1;33m\u001b[0m\u001b[1;33m\u001b[0m\u001b[0m\n",
      "\u001b[1;32m~\\Anaconda3\\lib\\site-packages\\pandas\\io\\parsers.py\u001b[0m in \u001b[0;36m__init__\u001b[1;34m(self, src, **kwds)\u001b[0m\n\u001b[0;32m   2006\u001b[0m         \u001b[0mkwds\u001b[0m\u001b[1;33m[\u001b[0m\u001b[1;34m\"usecols\"\u001b[0m\u001b[1;33m]\u001b[0m \u001b[1;33m=\u001b[0m \u001b[0mself\u001b[0m\u001b[1;33m.\u001b[0m\u001b[0musecols\u001b[0m\u001b[1;33m\u001b[0m\u001b[1;33m\u001b[0m\u001b[0m\n\u001b[0;32m   2007\u001b[0m \u001b[1;33m\u001b[0m\u001b[0m\n\u001b[1;32m-> 2008\u001b[1;33m         \u001b[0mself\u001b[0m\u001b[1;33m.\u001b[0m\u001b[0m_reader\u001b[0m \u001b[1;33m=\u001b[0m \u001b[0mparsers\u001b[0m\u001b[1;33m.\u001b[0m\u001b[0mTextReader\u001b[0m\u001b[1;33m(\u001b[0m\u001b[0msrc\u001b[0m\u001b[1;33m,\u001b[0m \u001b[1;33m**\u001b[0m\u001b[0mkwds\u001b[0m\u001b[1;33m)\u001b[0m\u001b[1;33m\u001b[0m\u001b[1;33m\u001b[0m\u001b[0m\n\u001b[0m\u001b[0;32m   2009\u001b[0m         \u001b[0mself\u001b[0m\u001b[1;33m.\u001b[0m\u001b[0munnamed_cols\u001b[0m \u001b[1;33m=\u001b[0m \u001b[0mself\u001b[0m\u001b[1;33m.\u001b[0m\u001b[0m_reader\u001b[0m\u001b[1;33m.\u001b[0m\u001b[0munnamed_cols\u001b[0m\u001b[1;33m\u001b[0m\u001b[1;33m\u001b[0m\u001b[0m\n\u001b[0;32m   2010\u001b[0m \u001b[1;33m\u001b[0m\u001b[0m\n",
      "\u001b[1;32mpandas\\_libs\\parsers.pyx\u001b[0m in \u001b[0;36mpandas._libs.parsers.TextReader.__cinit__\u001b[1;34m()\u001b[0m\n",
      "\u001b[1;32mpandas\\_libs\\parsers.pyx\u001b[0m in \u001b[0;36mpandas._libs.parsers.TextReader._setup_parser_source\u001b[1;34m()\u001b[0m\n",
      "\u001b[1;31mFileNotFoundError\u001b[0m: [Errno 2] No such file or directory: 'total_data.csv'"
     ]
    }
   ],
   "source": [
    "# 앞에서 작업했던 데이터를 불러온다\n",
    "total_data = pd.read_csv('total_data.csv')"
   ]
  },
  {
   "cell_type": "code",
   "execution_count": null,
   "metadata": {},
   "outputs": [],
   "source": [
    "# 앞에서 그래프 그릴 때 사용했던 데이터에 markov 모델도 더해준다.\n",
    "total_with_markov = total_data.append(attribution_by_markov, ignore_index = True)"
   ]
  },
  {
   "cell_type": "code",
   "execution_count": null,
   "metadata": {},
   "outputs": [],
   "source": [
    "# 다른 모델에서 낮아보였던 Instagram의 기여도는 높아졌다.\n",
    "sns.set_theme(style=\"whitegrid\", palette=\"Paired\") # 테마를 설정한다\n",
    "g = sns.barplot(x=total_with_markov.channel, y=total_with_markov.attribution, hue = total_with_markov.method)\n",
    "g.figure.set_size_inches(10, 7)"
   ]
  }
 ],
 "metadata": {
  "kernelspec": {
   "display_name": "Python 3",
   "language": "python",
   "name": "python3"
  },
  "language_info": {
   "codemirror_mode": {
    "name": "ipython",
    "version": 3
   },
   "file_extension": ".py",
   "mimetype": "text/x-python",
   "name": "python",
   "nbconvert_exporter": "python",
   "pygments_lexer": "ipython3",
   "version": "3.8.5"
  }
 },
 "nbformat": 4,
 "nbformat_minor": 4
}
